{
 "cells": [
  {
   "cell_type": "code",
   "execution_count": 1,
   "metadata": {
    "collapsed": false
   },
   "outputs": [
    {
     "name": "stdout",
     "output_type": "stream",
     "text": [
      "Populating the interactive namespace from numpy and matplotlib\n"
     ]
    }
   ],
   "source": [
    "#full download\n",
    "import pandas as pd\n",
    "import numpy as np\n",
    "import datetime as dt\n",
    "import sys\n",
    "import pyodbc\n",
    "import time\n",
    "\n",
    "import myfunctions as myf\n",
    "import qadconnect34plus as q\n",
    "\n",
    "%pylab inline\n",
    "\n",
    "sys.path.append('S:/Stoxx/Product Development and Research/Python')\n",
    "\n",
    "esgloc ='S:/Stoxx/Product Development and Research/Projects/2399 iSTOXX MUTB Japan and Global Quality ESG/'\n",
    "histloc = esgloc + '03 History/'\n",
    "calcloc = histloc + '01_calc_steps/'\n",
    "esgloc = histloc + '02_esg/'"
   ]
  },
  {
   "cell_type": "code",
   "execution_count": 21,
   "metadata": {
    "collapsed": false
   },
   "outputs": [
    {
     "data": {
      "text/plain": [
       "Timestamp('2000-03-20 00:00:00')"
      ]
     },
     "execution_count": 21,
     "metadata": {},
     "output_type": "execute_result"
    }
   ],
   "source": [
    "from stoxx.calculator import composition_zh as c\n",
    "from stoxx.dates import keydates as kd\n",
    "\n",
    "dfdts = kd.reviewdates()\n",
    "dfdts['effdt']=pd.to_datetime(dfdts['effdt'], format='%d.%m.%Y', dayfirst=True)\n",
    "dfdts.loc[0,'effdt']\n",
    "#datetime.date(year, month, day)"
   ]
  },
  {
   "cell_type": "code",
   "execution_count": 6,
   "metadata": {
    "collapsed": false
   },
   "outputs": [
    {
     "ename": "ConnectionError",
     "evalue": "('Connection aborted.', ConnectionResetError(10054, 'An existing connection was forcibly closed by the remote host', None, 10054, None))",
     "output_type": "error",
     "traceback": [
      "\u001b[0;31m---------------------------------------------------------------------------\u001b[0m",
      "\u001b[0;31mConnectionResetError\u001b[0m                      Traceback (most recent call last)",
      "\u001b[0;32mC:\\Users\\iv822\\AppData\\Local\\Continuum\\Anaconda3\\lib\\site-packages\\requests\\packages\\urllib3\\connectionpool.py\u001b[0m in \u001b[0;36murlopen\u001b[0;34m(self, method, url, body, headers, retries, redirect, assert_same_host, timeout, pool_timeout, release_conn, chunked, **response_kw)\u001b[0m\n\u001b[1;32m    594\u001b[0m                                                   \u001b[0mbody\u001b[0m\u001b[1;33m=\u001b[0m\u001b[0mbody\u001b[0m\u001b[1;33m,\u001b[0m \u001b[0mheaders\u001b[0m\u001b[1;33m=\u001b[0m\u001b[0mheaders\u001b[0m\u001b[1;33m,\u001b[0m\u001b[1;33m\u001b[0m\u001b[0m\n\u001b[0;32m--> 595\u001b[0;31m                                                   chunked=chunked)\n\u001b[0m\u001b[1;32m    596\u001b[0m \u001b[1;33m\u001b[0m\u001b[0m\n",
      "\u001b[0;32mC:\\Users\\iv822\\AppData\\Local\\Continuum\\Anaconda3\\lib\\site-packages\\requests\\packages\\urllib3\\connectionpool.py\u001b[0m in \u001b[0;36m_make_request\u001b[0;34m(self, conn, method, url, timeout, chunked, **httplib_request_kw)\u001b[0m\n\u001b[1;32m    392\u001b[0m                     \u001b[1;31m# otherwise it looks like a programming error was the cause.\u001b[0m\u001b[1;33m\u001b[0m\u001b[1;33m\u001b[0m\u001b[0m\n\u001b[0;32m--> 393\u001b[0;31m                     \u001b[0msix\u001b[0m\u001b[1;33m.\u001b[0m\u001b[0mraise_from\u001b[0m\u001b[1;33m(\u001b[0m\u001b[0me\u001b[0m\u001b[1;33m,\u001b[0m \u001b[1;32mNone\u001b[0m\u001b[1;33m)\u001b[0m\u001b[1;33m\u001b[0m\u001b[0m\n\u001b[0m\u001b[1;32m    394\u001b[0m         \u001b[1;32mexcept\u001b[0m \u001b[1;33m(\u001b[0m\u001b[0mSocketTimeout\u001b[0m\u001b[1;33m,\u001b[0m \u001b[0mBaseSSLError\u001b[0m\u001b[1;33m,\u001b[0m \u001b[0mSocketError\u001b[0m\u001b[1;33m)\u001b[0m \u001b[1;32mas\u001b[0m \u001b[0me\u001b[0m\u001b[1;33m:\u001b[0m\u001b[1;33m\u001b[0m\u001b[0m\n",
      "\u001b[0;32mC:\\Users\\iv822\\AppData\\Local\\Continuum\\Anaconda3\\lib\\site-packages\\requests\\packages\\urllib3\\packages\\six.py\u001b[0m in \u001b[0;36mraise_from\u001b[0;34m(value, from_value)\u001b[0m\n",
      "\u001b[0;32mC:\\Users\\iv822\\AppData\\Local\\Continuum\\Anaconda3\\lib\\site-packages\\requests\\packages\\urllib3\\connectionpool.py\u001b[0m in \u001b[0;36m_make_request\u001b[0;34m(self, conn, method, url, timeout, chunked, **httplib_request_kw)\u001b[0m\n\u001b[1;32m    388\u001b[0m                 \u001b[1;32mtry\u001b[0m\u001b[1;33m:\u001b[0m\u001b[1;33m\u001b[0m\u001b[0m\n\u001b[0;32m--> 389\u001b[0;31m                     \u001b[0mhttplib_response\u001b[0m \u001b[1;33m=\u001b[0m \u001b[0mconn\u001b[0m\u001b[1;33m.\u001b[0m\u001b[0mgetresponse\u001b[0m\u001b[1;33m(\u001b[0m\u001b[1;33m)\u001b[0m\u001b[1;33m\u001b[0m\u001b[0m\n\u001b[0m\u001b[1;32m    390\u001b[0m                 \u001b[1;32mexcept\u001b[0m \u001b[0mException\u001b[0m \u001b[1;32mas\u001b[0m \u001b[0me\u001b[0m\u001b[1;33m:\u001b[0m\u001b[1;33m\u001b[0m\u001b[0m\n",
      "\u001b[0;32mC:\\Users\\iv822\\AppData\\Local\\Continuum\\Anaconda3\\lib\\http\\client.py\u001b[0m in \u001b[0;36mgetresponse\u001b[0;34m(self)\u001b[0m\n\u001b[1;32m   1196\u001b[0m             \u001b[1;32mtry\u001b[0m\u001b[1;33m:\u001b[0m\u001b[1;33m\u001b[0m\u001b[0m\n\u001b[0;32m-> 1197\u001b[0;31m                 \u001b[0mresponse\u001b[0m\u001b[1;33m.\u001b[0m\u001b[0mbegin\u001b[0m\u001b[1;33m(\u001b[0m\u001b[1;33m)\u001b[0m\u001b[1;33m\u001b[0m\u001b[0m\n\u001b[0m\u001b[1;32m   1198\u001b[0m             \u001b[1;32mexcept\u001b[0m \u001b[0mConnectionError\u001b[0m\u001b[1;33m:\u001b[0m\u001b[1;33m\u001b[0m\u001b[0m\n",
      "\u001b[0;32mC:\\Users\\iv822\\AppData\\Local\\Continuum\\Anaconda3\\lib\\http\\client.py\u001b[0m in \u001b[0;36mbegin\u001b[0;34m(self)\u001b[0m\n\u001b[1;32m    296\u001b[0m         \u001b[1;32mwhile\u001b[0m \u001b[1;32mTrue\u001b[0m\u001b[1;33m:\u001b[0m\u001b[1;33m\u001b[0m\u001b[0m\n\u001b[0;32m--> 297\u001b[0;31m             \u001b[0mversion\u001b[0m\u001b[1;33m,\u001b[0m \u001b[0mstatus\u001b[0m\u001b[1;33m,\u001b[0m \u001b[0mreason\u001b[0m \u001b[1;33m=\u001b[0m \u001b[0mself\u001b[0m\u001b[1;33m.\u001b[0m\u001b[0m_read_status\u001b[0m\u001b[1;33m(\u001b[0m\u001b[1;33m)\u001b[0m\u001b[1;33m\u001b[0m\u001b[0m\n\u001b[0m\u001b[1;32m    298\u001b[0m             \u001b[1;32mif\u001b[0m \u001b[0mstatus\u001b[0m \u001b[1;33m!=\u001b[0m \u001b[0mCONTINUE\u001b[0m\u001b[1;33m:\u001b[0m\u001b[1;33m\u001b[0m\u001b[0m\n",
      "\u001b[0;32mC:\\Users\\iv822\\AppData\\Local\\Continuum\\Anaconda3\\lib\\http\\client.py\u001b[0m in \u001b[0;36m_read_status\u001b[0;34m(self)\u001b[0m\n\u001b[1;32m    257\u001b[0m     \u001b[1;32mdef\u001b[0m \u001b[0m_read_status\u001b[0m\u001b[1;33m(\u001b[0m\u001b[0mself\u001b[0m\u001b[1;33m)\u001b[0m\u001b[1;33m:\u001b[0m\u001b[1;33m\u001b[0m\u001b[0m\n\u001b[0;32m--> 258\u001b[0;31m         \u001b[0mline\u001b[0m \u001b[1;33m=\u001b[0m \u001b[0mstr\u001b[0m\u001b[1;33m(\u001b[0m\u001b[0mself\u001b[0m\u001b[1;33m.\u001b[0m\u001b[0mfp\u001b[0m\u001b[1;33m.\u001b[0m\u001b[0mreadline\u001b[0m\u001b[1;33m(\u001b[0m\u001b[0m_MAXLINE\u001b[0m \u001b[1;33m+\u001b[0m \u001b[1;36m1\u001b[0m\u001b[1;33m)\u001b[0m\u001b[1;33m,\u001b[0m \u001b[1;34m\"iso-8859-1\"\u001b[0m\u001b[1;33m)\u001b[0m\u001b[1;33m\u001b[0m\u001b[0m\n\u001b[0m\u001b[1;32m    259\u001b[0m         \u001b[1;32mif\u001b[0m \u001b[0mlen\u001b[0m\u001b[1;33m(\u001b[0m\u001b[0mline\u001b[0m\u001b[1;33m)\u001b[0m \u001b[1;33m>\u001b[0m \u001b[0m_MAXLINE\u001b[0m\u001b[1;33m:\u001b[0m\u001b[1;33m\u001b[0m\u001b[0m\n",
      "\u001b[0;32mC:\\Users\\iv822\\AppData\\Local\\Continuum\\Anaconda3\\lib\\socket.py\u001b[0m in \u001b[0;36mreadinto\u001b[0;34m(self, b)\u001b[0m\n\u001b[1;32m    574\u001b[0m             \u001b[1;32mtry\u001b[0m\u001b[1;33m:\u001b[0m\u001b[1;33m\u001b[0m\u001b[0m\n\u001b[0;32m--> 575\u001b[0;31m                 \u001b[1;32mreturn\u001b[0m \u001b[0mself\u001b[0m\u001b[1;33m.\u001b[0m\u001b[0m_sock\u001b[0m\u001b[1;33m.\u001b[0m\u001b[0mrecv_into\u001b[0m\u001b[1;33m(\u001b[0m\u001b[0mb\u001b[0m\u001b[1;33m)\u001b[0m\u001b[1;33m\u001b[0m\u001b[0m\n\u001b[0m\u001b[1;32m    576\u001b[0m             \u001b[1;32mexcept\u001b[0m \u001b[0mtimeout\u001b[0m\u001b[1;33m:\u001b[0m\u001b[1;33m\u001b[0m\u001b[0m\n",
      "\u001b[0;31mConnectionResetError\u001b[0m: [WinError 10054] An existing connection was forcibly closed by the remote host",
      "\nDuring handling of the above exception, another exception occurred:\n",
      "\u001b[0;31mProtocolError\u001b[0m                             Traceback (most recent call last)",
      "\u001b[0;32mC:\\Users\\iv822\\AppData\\Local\\Continuum\\Anaconda3\\lib\\site-packages\\requests\\adapters.py\u001b[0m in \u001b[0;36msend\u001b[0;34m(self, request, stream, timeout, verify, cert, proxies)\u001b[0m\n\u001b[1;32m    422\u001b[0m                     \u001b[0mretries\u001b[0m\u001b[1;33m=\u001b[0m\u001b[0mself\u001b[0m\u001b[1;33m.\u001b[0m\u001b[0mmax_retries\u001b[0m\u001b[1;33m,\u001b[0m\u001b[1;33m\u001b[0m\u001b[0m\n\u001b[0;32m--> 423\u001b[0;31m                     \u001b[0mtimeout\u001b[0m\u001b[1;33m=\u001b[0m\u001b[0mtimeout\u001b[0m\u001b[1;33m\u001b[0m\u001b[0m\n\u001b[0m\u001b[1;32m    424\u001b[0m                 )\n",
      "\u001b[0;32mC:\\Users\\iv822\\AppData\\Local\\Continuum\\Anaconda3\\lib\\site-packages\\requests\\packages\\urllib3\\connectionpool.py\u001b[0m in \u001b[0;36murlopen\u001b[0;34m(self, method, url, body, headers, retries, redirect, assert_same_host, timeout, pool_timeout, release_conn, chunked, **response_kw)\u001b[0m\n\u001b[1;32m    639\u001b[0m             retries = retries.increment(method, url, error=e, _pool=self,\n\u001b[0;32m--> 640\u001b[0;31m                                         _stacktrace=sys.exc_info()[2])\n\u001b[0m\u001b[1;32m    641\u001b[0m             \u001b[0mretries\u001b[0m\u001b[1;33m.\u001b[0m\u001b[0msleep\u001b[0m\u001b[1;33m(\u001b[0m\u001b[1;33m)\u001b[0m\u001b[1;33m\u001b[0m\u001b[0m\n",
      "\u001b[0;32mC:\\Users\\iv822\\AppData\\Local\\Continuum\\Anaconda3\\lib\\site-packages\\requests\\packages\\urllib3\\util\\retry.py\u001b[0m in \u001b[0;36mincrement\u001b[0;34m(self, method, url, response, error, _pool, _stacktrace)\u001b[0m\n\u001b[1;32m    260\u001b[0m             \u001b[1;32mif\u001b[0m \u001b[0mread\u001b[0m \u001b[1;32mis\u001b[0m \u001b[1;32mFalse\u001b[0m\u001b[1;33m:\u001b[0m\u001b[1;33m\u001b[0m\u001b[0m\n\u001b[0;32m--> 261\u001b[0;31m                 \u001b[1;32mraise\u001b[0m \u001b[0msix\u001b[0m\u001b[1;33m.\u001b[0m\u001b[0mreraise\u001b[0m\u001b[1;33m(\u001b[0m\u001b[0mtype\u001b[0m\u001b[1;33m(\u001b[0m\u001b[0merror\u001b[0m\u001b[1;33m)\u001b[0m\u001b[1;33m,\u001b[0m \u001b[0merror\u001b[0m\u001b[1;33m,\u001b[0m \u001b[0m_stacktrace\u001b[0m\u001b[1;33m)\u001b[0m\u001b[1;33m\u001b[0m\u001b[0m\n\u001b[0m\u001b[1;32m    262\u001b[0m             \u001b[1;32melif\u001b[0m \u001b[0mread\u001b[0m \u001b[1;32mis\u001b[0m \u001b[1;32mnot\u001b[0m \u001b[1;32mNone\u001b[0m\u001b[1;33m:\u001b[0m\u001b[1;33m\u001b[0m\u001b[0m\n",
      "\u001b[0;32mC:\\Users\\iv822\\AppData\\Local\\Continuum\\Anaconda3\\lib\\site-packages\\requests\\packages\\urllib3\\packages\\six.py\u001b[0m in \u001b[0;36mreraise\u001b[0;34m(tp, value, tb)\u001b[0m\n\u001b[1;32m    684\u001b[0m         \u001b[1;32mif\u001b[0m \u001b[0mvalue\u001b[0m\u001b[1;33m.\u001b[0m\u001b[0m__traceback__\u001b[0m \u001b[1;32mis\u001b[0m \u001b[1;32mnot\u001b[0m \u001b[0mtb\u001b[0m\u001b[1;33m:\u001b[0m\u001b[1;33m\u001b[0m\u001b[0m\n\u001b[0;32m--> 685\u001b[0;31m             \u001b[1;32mraise\u001b[0m \u001b[0mvalue\u001b[0m\u001b[1;33m.\u001b[0m\u001b[0mwith_traceback\u001b[0m\u001b[1;33m(\u001b[0m\u001b[0mtb\u001b[0m\u001b[1;33m)\u001b[0m\u001b[1;33m\u001b[0m\u001b[0m\n\u001b[0m\u001b[1;32m    686\u001b[0m         \u001b[1;32mraise\u001b[0m \u001b[0mvalue\u001b[0m\u001b[1;33m\u001b[0m\u001b[0m\n",
      "\u001b[0;32mC:\\Users\\iv822\\AppData\\Local\\Continuum\\Anaconda3\\lib\\site-packages\\requests\\packages\\urllib3\\connectionpool.py\u001b[0m in \u001b[0;36murlopen\u001b[0;34m(self, method, url, body, headers, retries, redirect, assert_same_host, timeout, pool_timeout, release_conn, chunked, **response_kw)\u001b[0m\n\u001b[1;32m    594\u001b[0m                                                   \u001b[0mbody\u001b[0m\u001b[1;33m=\u001b[0m\u001b[0mbody\u001b[0m\u001b[1;33m,\u001b[0m \u001b[0mheaders\u001b[0m\u001b[1;33m=\u001b[0m\u001b[0mheaders\u001b[0m\u001b[1;33m,\u001b[0m\u001b[1;33m\u001b[0m\u001b[0m\n\u001b[0;32m--> 595\u001b[0;31m                                                   chunked=chunked)\n\u001b[0m\u001b[1;32m    596\u001b[0m \u001b[1;33m\u001b[0m\u001b[0m\n",
      "\u001b[0;32mC:\\Users\\iv822\\AppData\\Local\\Continuum\\Anaconda3\\lib\\site-packages\\requests\\packages\\urllib3\\connectionpool.py\u001b[0m in \u001b[0;36m_make_request\u001b[0;34m(self, conn, method, url, timeout, chunked, **httplib_request_kw)\u001b[0m\n\u001b[1;32m    392\u001b[0m                     \u001b[1;31m# otherwise it looks like a programming error was the cause.\u001b[0m\u001b[1;33m\u001b[0m\u001b[1;33m\u001b[0m\u001b[0m\n\u001b[0;32m--> 393\u001b[0;31m                     \u001b[0msix\u001b[0m\u001b[1;33m.\u001b[0m\u001b[0mraise_from\u001b[0m\u001b[1;33m(\u001b[0m\u001b[0me\u001b[0m\u001b[1;33m,\u001b[0m \u001b[1;32mNone\u001b[0m\u001b[1;33m)\u001b[0m\u001b[1;33m\u001b[0m\u001b[0m\n\u001b[0m\u001b[1;32m    394\u001b[0m         \u001b[1;32mexcept\u001b[0m \u001b[1;33m(\u001b[0m\u001b[0mSocketTimeout\u001b[0m\u001b[1;33m,\u001b[0m \u001b[0mBaseSSLError\u001b[0m\u001b[1;33m,\u001b[0m \u001b[0mSocketError\u001b[0m\u001b[1;33m)\u001b[0m \u001b[1;32mas\u001b[0m \u001b[0me\u001b[0m\u001b[1;33m:\u001b[0m\u001b[1;33m\u001b[0m\u001b[0m\n",
      "\u001b[0;32mC:\\Users\\iv822\\AppData\\Local\\Continuum\\Anaconda3\\lib\\site-packages\\requests\\packages\\urllib3\\packages\\six.py\u001b[0m in \u001b[0;36mraise_from\u001b[0;34m(value, from_value)\u001b[0m\n",
      "\u001b[0;32mC:\\Users\\iv822\\AppData\\Local\\Continuum\\Anaconda3\\lib\\site-packages\\requests\\packages\\urllib3\\connectionpool.py\u001b[0m in \u001b[0;36m_make_request\u001b[0;34m(self, conn, method, url, timeout, chunked, **httplib_request_kw)\u001b[0m\n\u001b[1;32m    388\u001b[0m                 \u001b[1;32mtry\u001b[0m\u001b[1;33m:\u001b[0m\u001b[1;33m\u001b[0m\u001b[0m\n\u001b[0;32m--> 389\u001b[0;31m                     \u001b[0mhttplib_response\u001b[0m \u001b[1;33m=\u001b[0m \u001b[0mconn\u001b[0m\u001b[1;33m.\u001b[0m\u001b[0mgetresponse\u001b[0m\u001b[1;33m(\u001b[0m\u001b[1;33m)\u001b[0m\u001b[1;33m\u001b[0m\u001b[0m\n\u001b[0m\u001b[1;32m    390\u001b[0m                 \u001b[1;32mexcept\u001b[0m \u001b[0mException\u001b[0m \u001b[1;32mas\u001b[0m \u001b[0me\u001b[0m\u001b[1;33m:\u001b[0m\u001b[1;33m\u001b[0m\u001b[0m\n",
      "\u001b[0;32mC:\\Users\\iv822\\AppData\\Local\\Continuum\\Anaconda3\\lib\\http\\client.py\u001b[0m in \u001b[0;36mgetresponse\u001b[0;34m(self)\u001b[0m\n\u001b[1;32m   1196\u001b[0m             \u001b[1;32mtry\u001b[0m\u001b[1;33m:\u001b[0m\u001b[1;33m\u001b[0m\u001b[0m\n\u001b[0;32m-> 1197\u001b[0;31m                 \u001b[0mresponse\u001b[0m\u001b[1;33m.\u001b[0m\u001b[0mbegin\u001b[0m\u001b[1;33m(\u001b[0m\u001b[1;33m)\u001b[0m\u001b[1;33m\u001b[0m\u001b[0m\n\u001b[0m\u001b[1;32m   1198\u001b[0m             \u001b[1;32mexcept\u001b[0m \u001b[0mConnectionError\u001b[0m\u001b[1;33m:\u001b[0m\u001b[1;33m\u001b[0m\u001b[0m\n",
      "\u001b[0;32mC:\\Users\\iv822\\AppData\\Local\\Continuum\\Anaconda3\\lib\\http\\client.py\u001b[0m in \u001b[0;36mbegin\u001b[0;34m(self)\u001b[0m\n\u001b[1;32m    296\u001b[0m         \u001b[1;32mwhile\u001b[0m \u001b[1;32mTrue\u001b[0m\u001b[1;33m:\u001b[0m\u001b[1;33m\u001b[0m\u001b[0m\n\u001b[0;32m--> 297\u001b[0;31m             \u001b[0mversion\u001b[0m\u001b[1;33m,\u001b[0m \u001b[0mstatus\u001b[0m\u001b[1;33m,\u001b[0m \u001b[0mreason\u001b[0m \u001b[1;33m=\u001b[0m \u001b[0mself\u001b[0m\u001b[1;33m.\u001b[0m\u001b[0m_read_status\u001b[0m\u001b[1;33m(\u001b[0m\u001b[1;33m)\u001b[0m\u001b[1;33m\u001b[0m\u001b[0m\n\u001b[0m\u001b[1;32m    298\u001b[0m             \u001b[1;32mif\u001b[0m \u001b[0mstatus\u001b[0m \u001b[1;33m!=\u001b[0m \u001b[0mCONTINUE\u001b[0m\u001b[1;33m:\u001b[0m\u001b[1;33m\u001b[0m\u001b[0m\n",
      "\u001b[0;32mC:\\Users\\iv822\\AppData\\Local\\Continuum\\Anaconda3\\lib\\http\\client.py\u001b[0m in \u001b[0;36m_read_status\u001b[0;34m(self)\u001b[0m\n\u001b[1;32m    257\u001b[0m     \u001b[1;32mdef\u001b[0m \u001b[0m_read_status\u001b[0m\u001b[1;33m(\u001b[0m\u001b[0mself\u001b[0m\u001b[1;33m)\u001b[0m\u001b[1;33m:\u001b[0m\u001b[1;33m\u001b[0m\u001b[0m\n\u001b[0;32m--> 258\u001b[0;31m         \u001b[0mline\u001b[0m \u001b[1;33m=\u001b[0m \u001b[0mstr\u001b[0m\u001b[1;33m(\u001b[0m\u001b[0mself\u001b[0m\u001b[1;33m.\u001b[0m\u001b[0mfp\u001b[0m\u001b[1;33m.\u001b[0m\u001b[0mreadline\u001b[0m\u001b[1;33m(\u001b[0m\u001b[0m_MAXLINE\u001b[0m \u001b[1;33m+\u001b[0m \u001b[1;36m1\u001b[0m\u001b[1;33m)\u001b[0m\u001b[1;33m,\u001b[0m \u001b[1;34m\"iso-8859-1\"\u001b[0m\u001b[1;33m)\u001b[0m\u001b[1;33m\u001b[0m\u001b[0m\n\u001b[0m\u001b[1;32m    259\u001b[0m         \u001b[1;32mif\u001b[0m \u001b[0mlen\u001b[0m\u001b[1;33m(\u001b[0m\u001b[0mline\u001b[0m\u001b[1;33m)\u001b[0m \u001b[1;33m>\u001b[0m \u001b[0m_MAXLINE\u001b[0m\u001b[1;33m:\u001b[0m\u001b[1;33m\u001b[0m\u001b[0m\n",
      "\u001b[0;32mC:\\Users\\iv822\\AppData\\Local\\Continuum\\Anaconda3\\lib\\socket.py\u001b[0m in \u001b[0;36mreadinto\u001b[0;34m(self, b)\u001b[0m\n\u001b[1;32m    574\u001b[0m             \u001b[1;32mtry\u001b[0m\u001b[1;33m:\u001b[0m\u001b[1;33m\u001b[0m\u001b[0m\n\u001b[0;32m--> 575\u001b[0;31m                 \u001b[1;32mreturn\u001b[0m \u001b[0mself\u001b[0m\u001b[1;33m.\u001b[0m\u001b[0m_sock\u001b[0m\u001b[1;33m.\u001b[0m\u001b[0mrecv_into\u001b[0m\u001b[1;33m(\u001b[0m\u001b[0mb\u001b[0m\u001b[1;33m)\u001b[0m\u001b[1;33m\u001b[0m\u001b[0m\n\u001b[0m\u001b[1;32m    576\u001b[0m             \u001b[1;32mexcept\u001b[0m \u001b[0mtimeout\u001b[0m\u001b[1;33m:\u001b[0m\u001b[1;33m\u001b[0m\u001b[0m\n",
      "\u001b[0;31mProtocolError\u001b[0m: ('Connection aborted.', ConnectionResetError(10054, 'An existing connection was forcibly closed by the remote host', None, 10054, None))",
      "\nDuring handling of the above exception, another exception occurred:\n",
      "\u001b[0;31mConnectionError\u001b[0m                           Traceback (most recent call last)",
      "\u001b[0;32m<ipython-input-6-3baeb58ef8db>\u001b[0m in \u001b[0;36m<module>\u001b[0;34m()\u001b[0m\n\u001b[1;32m     25\u001b[0m \u001b[1;33m\u001b[0m\u001b[0m\n\u001b[1;32m     26\u001b[0m \u001b[1;31m#r=requests.get(\"http://mpzhwstxop01/sidwebapi/api/Index?indexSymbol=sx5e&calendarName=stxsq1&qadItems=ws_1551_q,ws_1505_q&startDate=2016-01-01&target_currencies=USD&flag=Y\")\u001b[0m\u001b[1;33m\u001b[0m\u001b[1;33m\u001b[0m\u001b[0m\n\u001b[0;32m---> 27\u001b[0;31m \u001b[0mr\u001b[0m \u001b[1;33m=\u001b[0m\u001b[0mrequests\u001b[0m\u001b[1;33m.\u001b[0m\u001b[0mget\u001b[0m\u001b[1;33m(\u001b[0m\u001b[0mapisql\u001b[0m\u001b[1;33m)\u001b[0m\u001b[1;33m\u001b[0m\u001b[0m\n\u001b[0m\u001b[1;32m     28\u001b[0m \u001b[0mcsvdata\u001b[0m \u001b[1;33m=\u001b[0m \u001b[0mpd\u001b[0m\u001b[1;33m.\u001b[0m\u001b[0mread_csv\u001b[0m\u001b[1;33m(\u001b[0m\u001b[0mio\u001b[0m\u001b[1;33m.\u001b[0m\u001b[0mStringIO\u001b[0m\u001b[1;33m(\u001b[0m\u001b[0mr\u001b[0m\u001b[1;33m.\u001b[0m\u001b[0mcontent\u001b[0m\u001b[1;33m.\u001b[0m\u001b[0mdecode\u001b[0m\u001b[1;33m(\u001b[0m\u001b[1;34m'utf-8'\u001b[0m\u001b[1;33m)\u001b[0m\u001b[1;33m)\u001b[0m\u001b[1;33m,\u001b[0m \u001b[0msep\u001b[0m\u001b[1;33m=\u001b[0m\u001b[1;34m';'\u001b[0m\u001b[1;33m)\u001b[0m\u001b[1;33m\u001b[0m\u001b[0m\n\u001b[1;32m     29\u001b[0m \u001b[1;31m#data = json.loads(r.text)\u001b[0m\u001b[1;33m\u001b[0m\u001b[1;33m\u001b[0m\u001b[0m\n",
      "\u001b[0;32mC:\\Users\\iv822\\AppData\\Local\\Continuum\\Anaconda3\\lib\\site-packages\\requests\\api.py\u001b[0m in \u001b[0;36mget\u001b[0;34m(url, params, **kwargs)\u001b[0m\n\u001b[1;32m     68\u001b[0m \u001b[1;33m\u001b[0m\u001b[0m\n\u001b[1;32m     69\u001b[0m     \u001b[0mkwargs\u001b[0m\u001b[1;33m.\u001b[0m\u001b[0msetdefault\u001b[0m\u001b[1;33m(\u001b[0m\u001b[1;34m'allow_redirects'\u001b[0m\u001b[1;33m,\u001b[0m \u001b[1;32mTrue\u001b[0m\u001b[1;33m)\u001b[0m\u001b[1;33m\u001b[0m\u001b[0m\n\u001b[0;32m---> 70\u001b[0;31m     \u001b[1;32mreturn\u001b[0m \u001b[0mrequest\u001b[0m\u001b[1;33m(\u001b[0m\u001b[1;34m'get'\u001b[0m\u001b[1;33m,\u001b[0m \u001b[0murl\u001b[0m\u001b[1;33m,\u001b[0m \u001b[0mparams\u001b[0m\u001b[1;33m=\u001b[0m\u001b[0mparams\u001b[0m\u001b[1;33m,\u001b[0m \u001b[1;33m**\u001b[0m\u001b[0mkwargs\u001b[0m\u001b[1;33m)\u001b[0m\u001b[1;33m\u001b[0m\u001b[0m\n\u001b[0m\u001b[1;32m     71\u001b[0m \u001b[1;33m\u001b[0m\u001b[0m\n\u001b[1;32m     72\u001b[0m \u001b[1;33m\u001b[0m\u001b[0m\n",
      "\u001b[0;32mC:\\Users\\iv822\\AppData\\Local\\Continuum\\Anaconda3\\lib\\site-packages\\requests\\api.py\u001b[0m in \u001b[0;36mrequest\u001b[0;34m(method, url, **kwargs)\u001b[0m\n\u001b[1;32m     54\u001b[0m     \u001b[1;31m# cases, and look like a memory leak in others.\u001b[0m\u001b[1;33m\u001b[0m\u001b[1;33m\u001b[0m\u001b[0m\n\u001b[1;32m     55\u001b[0m     \u001b[1;32mwith\u001b[0m \u001b[0msessions\u001b[0m\u001b[1;33m.\u001b[0m\u001b[0mSession\u001b[0m\u001b[1;33m(\u001b[0m\u001b[1;33m)\u001b[0m \u001b[1;32mas\u001b[0m \u001b[0msession\u001b[0m\u001b[1;33m:\u001b[0m\u001b[1;33m\u001b[0m\u001b[0m\n\u001b[0;32m---> 56\u001b[0;31m         \u001b[1;32mreturn\u001b[0m \u001b[0msession\u001b[0m\u001b[1;33m.\u001b[0m\u001b[0mrequest\u001b[0m\u001b[1;33m(\u001b[0m\u001b[0mmethod\u001b[0m\u001b[1;33m=\u001b[0m\u001b[0mmethod\u001b[0m\u001b[1;33m,\u001b[0m \u001b[0murl\u001b[0m\u001b[1;33m=\u001b[0m\u001b[0murl\u001b[0m\u001b[1;33m,\u001b[0m \u001b[1;33m**\u001b[0m\u001b[0mkwargs\u001b[0m\u001b[1;33m)\u001b[0m\u001b[1;33m\u001b[0m\u001b[0m\n\u001b[0m\u001b[1;32m     57\u001b[0m \u001b[1;33m\u001b[0m\u001b[0m\n\u001b[1;32m     58\u001b[0m \u001b[1;33m\u001b[0m\u001b[0m\n",
      "\u001b[0;32mC:\\Users\\iv822\\AppData\\Local\\Continuum\\Anaconda3\\lib\\site-packages\\requests\\sessions.py\u001b[0m in \u001b[0;36mrequest\u001b[0;34m(self, method, url, params, data, headers, cookies, files, auth, timeout, allow_redirects, proxies, hooks, stream, verify, cert, json)\u001b[0m\n\u001b[1;32m    473\u001b[0m         }\n\u001b[1;32m    474\u001b[0m         \u001b[0msend_kwargs\u001b[0m\u001b[1;33m.\u001b[0m\u001b[0mupdate\u001b[0m\u001b[1;33m(\u001b[0m\u001b[0msettings\u001b[0m\u001b[1;33m)\u001b[0m\u001b[1;33m\u001b[0m\u001b[0m\n\u001b[0;32m--> 475\u001b[0;31m         \u001b[0mresp\u001b[0m \u001b[1;33m=\u001b[0m \u001b[0mself\u001b[0m\u001b[1;33m.\u001b[0m\u001b[0msend\u001b[0m\u001b[1;33m(\u001b[0m\u001b[0mprep\u001b[0m\u001b[1;33m,\u001b[0m \u001b[1;33m**\u001b[0m\u001b[0msend_kwargs\u001b[0m\u001b[1;33m)\u001b[0m\u001b[1;33m\u001b[0m\u001b[0m\n\u001b[0m\u001b[1;32m    476\u001b[0m \u001b[1;33m\u001b[0m\u001b[0m\n\u001b[1;32m    477\u001b[0m         \u001b[1;32mreturn\u001b[0m \u001b[0mresp\u001b[0m\u001b[1;33m\u001b[0m\u001b[0m\n",
      "\u001b[0;32mC:\\Users\\iv822\\AppData\\Local\\Continuum\\Anaconda3\\lib\\site-packages\\requests\\sessions.py\u001b[0m in \u001b[0;36msend\u001b[0;34m(self, request, **kwargs)\u001b[0m\n\u001b[1;32m    594\u001b[0m \u001b[1;33m\u001b[0m\u001b[0m\n\u001b[1;32m    595\u001b[0m         \u001b[1;31m# Send the request\u001b[0m\u001b[1;33m\u001b[0m\u001b[1;33m\u001b[0m\u001b[0m\n\u001b[0;32m--> 596\u001b[0;31m         \u001b[0mr\u001b[0m \u001b[1;33m=\u001b[0m \u001b[0madapter\u001b[0m\u001b[1;33m.\u001b[0m\u001b[0msend\u001b[0m\u001b[1;33m(\u001b[0m\u001b[0mrequest\u001b[0m\u001b[1;33m,\u001b[0m \u001b[1;33m**\u001b[0m\u001b[0mkwargs\u001b[0m\u001b[1;33m)\u001b[0m\u001b[1;33m\u001b[0m\u001b[0m\n\u001b[0m\u001b[1;32m    597\u001b[0m \u001b[1;33m\u001b[0m\u001b[0m\n\u001b[1;32m    598\u001b[0m         \u001b[1;31m# Total elapsed time of the request (approximately)\u001b[0m\u001b[1;33m\u001b[0m\u001b[1;33m\u001b[0m\u001b[0m\n",
      "\u001b[0;32mC:\\Users\\iv822\\AppData\\Local\\Continuum\\Anaconda3\\lib\\site-packages\\requests\\adapters.py\u001b[0m in \u001b[0;36msend\u001b[0;34m(self, request, stream, timeout, verify, cert, proxies)\u001b[0m\n\u001b[1;32m    471\u001b[0m \u001b[1;33m\u001b[0m\u001b[0m\n\u001b[1;32m    472\u001b[0m         \u001b[1;32mexcept\u001b[0m \u001b[1;33m(\u001b[0m\u001b[0mProtocolError\u001b[0m\u001b[1;33m,\u001b[0m \u001b[0msocket\u001b[0m\u001b[1;33m.\u001b[0m\u001b[0merror\u001b[0m\u001b[1;33m)\u001b[0m \u001b[1;32mas\u001b[0m \u001b[0merr\u001b[0m\u001b[1;33m:\u001b[0m\u001b[1;33m\u001b[0m\u001b[0m\n\u001b[0;32m--> 473\u001b[0;31m             \u001b[1;32mraise\u001b[0m \u001b[0mConnectionError\u001b[0m\u001b[1;33m(\u001b[0m\u001b[0merr\u001b[0m\u001b[1;33m,\u001b[0m \u001b[0mrequest\u001b[0m\u001b[1;33m=\u001b[0m\u001b[0mrequest\u001b[0m\u001b[1;33m)\u001b[0m\u001b[1;33m\u001b[0m\u001b[0m\n\u001b[0m\u001b[1;32m    474\u001b[0m \u001b[1;33m\u001b[0m\u001b[0m\n\u001b[1;32m    475\u001b[0m         \u001b[1;32mexcept\u001b[0m \u001b[0mMaxRetryError\u001b[0m \u001b[1;32mas\u001b[0m \u001b[0me\u001b[0m\u001b[1;33m:\u001b[0m\u001b[1;33m\u001b[0m\u001b[0m\n",
      "\u001b[0;31mConnectionError\u001b[0m: ('Connection aborted.', ConnectionResetError(10054, 'An existing connection was forcibly closed by the remote host', None, 10054, None))"
     ]
    }
   ],
   "source": [
    "#getting GL 1800 compositions and adtv\n",
    "\n",
    "import requests\n",
    "import io\n",
    "import json\n",
    "\n",
    "idxsym = 'sxw1'\n",
    "qadits1 = 'wspit_3995_a;q;s_12,wspit_3255_a;q;s_12,wspit_5255,wspit_5145,wspit_9402,Vol_60m_LOCAL_m'\n",
    "#qadits = 'DY_12m_Exclude_Gross' #ADTV_12m_EUR; 'wspit_3995_a;q;s_12'\n",
    "\n",
    "time1=time.time()\n",
    "\n",
    "cal = 'stxws2'\n",
    "qadits = 'ADTV_3m_USD'\n",
    "dt = '2009-12-01'\n",
    "cur = 'USD'\n",
    "\n",
    "#csv api\n",
    "apisql = 'http://zurix06.bat.ci.dom/sidwebapi/api/Index?indexSymbol=%s&calendarName=%s&qadItems=%s&startDate=%s&target_currencies=%s&flag=Y'\n",
    "\n",
    "#json API\n",
    "#apisql = 'http://zurix06.bat.ci.dom/sidwebapi/api/Index?indexSymbol=%s&calendarName=%s&qadItems=%s&startDate=%s&target_currencies=%s'\n",
    "\n",
    "apisql = apisql % (idxsym, cal, qadits, dt, cur)\n",
    "\n",
    "#r=requests.get(\"http://mpzhwstxop01/sidwebapi/api/Index?indexSymbol=sx5e&calendarName=stxsq1&qadItems=ws_1551_q,ws_1505_q&startDate=2016-01-01&target_currencies=USD&flag=Y\")\n",
    "r =requests.get(apisql)\n",
    "csvdata = pd.read_csv(io.StringIO(r.content.decode('utf-8')), sep=';')\n",
    "#data = json.loads(r.text)\n",
    "#data\n",
    "#print(\"Received from SID {n} rows.\".format(n=csvdata.size))\n",
    "\n",
    "time2=time.time()\n",
    "print('time elapsed:', (time2-time1)/60, 'minutes')\n",
    "csvdata.to_csv(calcloc + '02_global1800_.csv',sep=';',index=False)\n",
    "\n",
    "csvdata.head(3)"
   ]
  },
  {
   "cell_type": "code",
   "execution_count": null,
   "metadata": {
    "collapsed": false
   },
   "outputs": [],
   "source": []
  },
  {
   "cell_type": "code",
   "execution_count": null,
   "metadata": {
    "collapsed": false
   },
   "outputs": [],
   "source": []
  },
  {
   "cell_type": "code",
   "execution_count": 29,
   "metadata": {
    "collapsed": false
   },
   "outputs": [
    {
     "name": "stdout",
     "output_type": "stream",
     "text": [
      "2799\n",
      "200\n",
      "400\n",
      "600\n",
      "800\n",
      "1000\n",
      "1200\n",
      "1400\n",
      "1600\n",
      "1800\n",
      "2000\n",
      "2200\n",
      "2400\n",
      "2600\n",
      "done step4\n"
     ]
    }
   ],
   "source": [
    "#global 1800\n",
    "df_ = pd.read_csv(histloc +'SXW1_export.csv', sep=';')#, dtype={'symbol': object})\n",
    "df_['ffmcap_eur'] = df_['free_float_value'] * df_['out_no_shares'] * df_['price_in_local'] * df_['FX_local_to_Index_Currency']\n",
    "\n",
    "dfind = pd.read_excel(histloc + 'industry_codes1.xlsx', sheetname='full')\n",
    "dfind['old_subs'] = dfind['old_subs'].astype(int)\n",
    "df_ = pd.merge(df_, dfind, how='left', left_on='icb_subsector', right_on='old_subs')\n",
    "\n",
    "del df_['old_subs']\n",
    "\n",
    "ct = 0\n",
    "for c in df_.columns:\n",
    "    #print(ct, c)\n",
    "    ct+=1\n",
    "\n",
    "df = df_[[1,7,12,21,8,11,24,6,5,25,26,27,23]].copy()\n",
    "df.columns = ['date','isin','curr','fx','sedol','icb','ffmcap_eur','name','symbol','ICB_ind','ICB_sec','ICB_ind_name','ADTV_3M_USD']\n",
    "\n",
    "df.to_csv(calcloc + '02_global1800.csv',sep=';',index=False)\n",
    "do_step4('02_global1800')"
   ]
  },
  {
   "cell_type": "code",
   "execution_count": null,
   "metadata": {
    "collapsed": false
   },
   "outputs": [],
   "source": []
  },
  {
   "cell_type": "code",
   "execution_count": 8,
   "metadata": {
    "collapsed": false
   },
   "outputs": [
    {
     "name": "stdout",
     "output_type": "stream",
     "text": [
      "0 date\n",
      "1 isin\n",
      "2 curr\n",
      "3 fx\n",
      "4 sedol\n",
      "5 icb\n",
      "6 ffmcap_eur\n",
      "7 name\n",
      "8 symbol\n",
      "9 dt\n",
      "10 ICB_ind\n",
      "11 ICB_sec\n",
      "12 ICB_ind_name\n"
     ]
    }
   ],
   "source": [
    "df_ = pd.read_csv(calcloc +'02_jp600.csv', sep=';', dtype={'symbol': object})\n",
    "ct = 0\n",
    "for c in df_.columns:\n",
    "    print(ct, c)\n",
    "    ct+=1"
   ]
  },
  {
   "cell_type": "code",
   "execution_count": 33,
   "metadata": {
    "collapsed": false
   },
   "outputs": [
    {
     "name": "stdout",
     "output_type": "stream",
     "text": [
      "done step2\n"
     ]
    },
    {
     "name": "stderr",
     "output_type": "stream",
     "text": [
      "C:\\Users\\iv822\\AppData\\Local\\Continuum\\Anaconda3\\lib\\site-packages\\ipykernel\\__main__.py:9: FutureWarning: sort(columns=....) is deprecated, use sort_values(by=.....)\n",
      "C:\\Users\\iv822\\AppData\\Local\\Continuum\\Anaconda3\\lib\\site-packages\\ipykernel\\__main__.py:18: FutureWarning: sort(columns=....) is deprecated, use sort_values(by=.....)\n"
     ]
    },
    {
     "name": "stdout",
     "output_type": "stream",
     "text": [
      "done step3\n"
     ]
    },
    {
     "name": "stderr",
     "output_type": "stream",
     "text": [
      "C:\\Users\\iv822\\AppData\\Local\\Continuum\\Anaconda3\\lib\\site-packages\\ipykernel\\__main__.py:5: FutureWarning: sort(columns=....) is deprecated, use sort_values(by=.....)\n"
     ]
    },
    {
     "name": "stdout",
     "output_type": "stream",
     "text": [
      "1065\n",
      "200\n",
      "400\n",
      "600\n",
      "800\n",
      "1000\n",
      "done step4\n",
      "done all\n"
     ]
    }
   ],
   "source": [
    "#c.get_composition('sx60jp', dfdts.loc[0,'effdt'], 'open')\n",
    "\n",
    "##prepare input universe\n",
    "#do_step1()\n",
    "do_step2()\n",
    "do_step3()\n",
    "do_step4('02_jp600')\n",
    "print('done all')"
   ]
  },
  {
   "cell_type": "code",
   "execution_count": 25,
   "metadata": {
    "collapsed": false
   },
   "outputs": [],
   "source": [
    "#use IF compositions\n",
    "def do_step1():\n",
    "    cut_dates = ['2010-08-02','2012-03-13'] #launch dates are '2011-02-21','2012-04-16', but these here are the cut dates for production available data\n",
    "\n",
    "    fs = ['IF_STXJPTM_EUR_Price.csv','IF_STXJP600_EUR_Price.csv']\n",
    "    ct=0\n",
    "    for f in fs:\n",
    "        dfjp = pd.read_csv(histloc + f, sep=';', \n",
    "                       usecols=['Date','ISIN','SEDOL','Currency','ICB Subsector','F/X rate','Freefloat Market Cap'],\n",
    "                          dtype={'SEDOL': object, 'ICB Subsector': object, 'Freefloat Market Cap': float}).sort_values('Date', ascending=True)\n",
    "        dfjp['name'] = ''\n",
    "        dfjp['symbol'] = ''\n",
    "        dfjp['dt'] = pd.to_datetime(dfjp['Date'], format='%Y-%m-%d', dayfirst=True)\n",
    "\n",
    "        dfjp = dfjp[dfjp['Date'] < cut_dates[ct]].reset_index(drop=True) ##### only for last rebalancing\n",
    "\n",
    "        dfjp = dfjp.rename(columns={'Date':'date', 'ISIN':'isin', 'SEDOL':'sedol', 'Currency':'curr', 'ICB Subsector': 'icb',\n",
    "                                    'F/X rate':'fx', 'Freefloat Market Cap': 'ffmcap_eur'})\n",
    "\n",
    "        #updating missing sedols - need sedols to get Worldscope data\n",
    "        dfjp.loc[dfjp['isin']=='JP3480400005','sedol']='6569668' #update sedol for Cedyna Financial - delisted comp\n",
    "        dfjp.loc[dfjp['isin']=='JP3633000009','sedol']='6900621'\n",
    "        dfjp.loc[dfjp['isin']=='JP3700000007','sedol']='6641124' #NIPPON LIGHT METAL\n",
    "        \n",
    "        for index, row in dfjp[dfjp.sedol.isnull()].iterrows(): #update rest using QAD sedols\n",
    "            if not np.isnan(q.get_infocode(row['isin'])):\n",
    "                dfjp.loc[index,'sedol']=q.get_sedol(q.get_infocode(row['isin']))\n",
    "        if ct==0:\n",
    "            dfjp.to_csv(calcloc + '01_STXJPTMI_Base_4Q.csv',sep=';',index=False)\n",
    "            dfy = dfjp\n",
    "        else:\n",
    "            dfjp = dfjp[dfjp['dt'].map(lambda x: x.month==6 or x.month==12)]\n",
    "            dfjp.to_csv(calcloc + '01_STXJP600_Base.csv',sep=';',index=False)\n",
    "            dfz = dfjp\n",
    "        ct=ct+1\n",
    "\n",
    "    print('done step1')"
   ]
  },
  {
   "cell_type": "code",
   "execution_count": 30,
   "metadata": {
    "collapsed": true
   },
   "outputs": [],
   "source": [
    "#get the composition from production\n",
    "from stoxx.dates import keydates as kd\n",
    "\n",
    "def do_step2():\n",
    "\n",
    "    cut_dates = ['2012-03-13', '2010-08-02'] #launch dates are '2011-02-21','2012-04-16'\n",
    "\n",
    "    rev_qs = [[6,12], [3,6,9,12]]\n",
    "    idxs = ['sx60jp', 'tw1p'] #tcjpp: japan TMI; use tw1p instead;  sx60jp: japan 600\n",
    "    #idxs = ['sx60jp', 'xx']\n",
    "\n",
    "    rdts = kd.reviewdates()\n",
    "    rdts['effdt'] = pd.to_datetime(rdts['effdt'], format='%d.%m.%Y', dayfirst=True)\n",
    "    rdts['impdt'] = pd.to_datetime(rdts['impdt'], format='%d.%m.%Y', dayfirst=True)\n",
    "\n",
    "    locdata = 'S:/Stoxx/Stoxx_Reports/stoxx_composition_files/STOXX/'\n",
    "    dffoo = pd.DataFrame()\n",
    "    ct=0\n",
    "    for idx in idxs:\n",
    "        #print(idx, rev_qs[ct],cut_dates[ct])\n",
    "        rd = rdts[rdts.mth.isin(rev_qs[ct]) & (rdts.effdt > cut_dates[ct])]['effdt']\n",
    "        dfdts = pd.DataFrame(rd)\n",
    "\n",
    "        dffoo = pd.DataFrame()\n",
    "\n",
    "        for index, row in dfdts.iterrows():\n",
    "            dt = str(row[dfdts.columns[0]])[:10].replace('-','')\n",
    "            of = '/open_' + idx + '_' + dt + '.csv'\n",
    "\n",
    "            try:    \n",
    "                dffo = pd.read_csv(locdata + idx + of, encoding='utf-8-sig', sep=';', dtype={'ICB': object, 'Internal_Number': object})\n",
    "                #print(1, dt, idx, len(dffo.columns))\n",
    "            except:\n",
    "                try:\n",
    "                    dffo = pd.read_csv(locdata + idx + of, encoding='iso-8859-1', sep=';', dtype={'ICB': object, 'Internal_Number': object})\n",
    "                    #print(2, dt, idx)\n",
    "                except:\n",
    "                    pass\n",
    "\n",
    "            if len(dffo.columns)==37:\n",
    "                del dffo['RIC']\n",
    "                del dffo[dffo.columns[len(dffo.columns)-1]]\n",
    "                df1 = dffo[[0,11,16,26,12,18,28,14,10]]\n",
    "\n",
    "            if len(dffo.columns)==36:\n",
    "                del dffo['RIC']\n",
    "                cols = dffo.columns\n",
    "                dffo.insert(0, 'x', dffo.index)\n",
    "                del dffo[dffo.columns[len(dffo.columns)-1]]\n",
    "                dffo.columns = cols\n",
    "                df1 = dffo[[0,11,16,26,12,18,28,14,10]] \n",
    "\n",
    "            df1 = df1.rename(columns={'Next_Trading_Day':'date', 'ISIN':'isin', 'SEDOL':'sedol', 'Currency':'curr', \n",
    "                                    'FX_local_to_Index_Currency':'fx', 'ICB': 'icb', 'Mcap_Units_Index_Currency': 'ffmcap_eur',\n",
    "                                    'Instrument_Name': 'name', 'Internal_Number':'symbol'})\n",
    "\n",
    "            df1['dt']=pd.to_datetime(df1['date'], format='%Y-%m-%d', dayfirst=True)\n",
    "\n",
    "            dffoo = pd.concat([dffoo, df1], axis=0)\n",
    "            #print(len(dffo.columns))\n",
    "\n",
    "        dffoo.to_csv(calcloc + '01_' + idx + '_prod.csv', index=False, sep=';')\n",
    "        #dffoo['dt'] = pd.to_datetime(dffoo['Next_Trading_Day'], format='%Y-%m-%d', dayfirst=True)\n",
    "\n",
    "        ct = ct + 1\n",
    "\n",
    "    print('done step2')"
   ]
  },
  {
   "cell_type": "code",
   "execution_count": 31,
   "metadata": {
    "collapsed": true
   },
   "outputs": [],
   "source": [
    "#get icb mapping and full files\n",
    "def do_step3():\n",
    "    dfind = pd.read_excel(histloc + 'industry_codes1.xlsx', sheetname='full')\n",
    "    dfind['old_subs'] = dfind['old_subs'].astype(int)\n",
    "\n",
    "    dfjp1 = pd.read_csv(calcloc + '01_STXJP600_Base.csv', sep=';')\n",
    "    dfjp2 = pd.read_csv(calcloc + '01_sx60jp_prod.csv', sep=';', dtype={'symbol': object})\n",
    "\n",
    "    dfjp = pd.concat([dfjp1, dfjp2], axis=0).sort_values(['date', 'ffmcap_eur'], ascending=[True, False])\n",
    "    dfjp.loc[dfjp['isin']=='JP3463200000', 'icb'] = 8773 #missing ICB in database\n",
    "    dfjp = pd.merge(dfjp, dfind, how='left', left_on='icb', right_on='old_subs')\n",
    "\n",
    "    del dfjp['old_subs']\n",
    "    dfjp.to_csv(calcloc + '02_jp600.csv',sep=';',index=False)\n",
    "\n",
    "    dfjp3 = pd.read_csv(calcloc + '01_STXJPTMI_Base_4Q.csv', sep=';')\n",
    "    dfjp4 = pd.read_csv(calcloc + '01_tw1p_prod.csv', sep=';', encoding='iso-8859-1', dtype={'symbol': object})\n",
    "    dfjp0 = pd.concat([dfjp3, dfjp4], axis=0).sort_values(['date', 'ffmcap_eur'], ascending=[True, False])\n",
    "    dfjp0.loc[dfjp0['isin']=='JP3463200000', 'icb'] = 8773 #missing ICB in database\n",
    "    dfjp0 = pd.merge(dfjp0, dfind, how='left', left_on='icb', right_on='old_subs')\n",
    "    del dfjp0['old_subs']\n",
    "    dfjp0.to_csv(calcloc + '02_jptmi.csv',sep=';',index=False)\n",
    "\n",
    "    print('done step3')"
   ]
  },
  {
   "cell_type": "code",
   "execution_count": 27,
   "metadata": {
    "collapsed": true
   },
   "outputs": [],
   "source": [
    "#get all infocodes\n",
    "def do_step4(f): #f: '02_jp600', '02_global1800'\n",
    "    df = pd.read_csv(calcloc + f + '.csv', sep=';', dtype={'symbol': object})\n",
    "\n",
    "    df = df.sort_values(['date', 'isin'], ascending=[True, True]).reset_index(drop=True)\n",
    "    df['dt2']=pd.to_datetime(df['date'], format='%Y-%m-%d', dayfirst=True)\n",
    "\n",
    "    dfds = pd.read_excel(histloc + 'DSCODE_map.xlsx')\n",
    "\n",
    "    dto = np.datetime64('2050-01-01')\n",
    "    dfds['dtto'] = dfds['dtto'].fillna(dto)\n",
    "\n",
    "    df = df.iloc[:,:]\n",
    "\n",
    "    infocode_list = []\n",
    "    dfids = df[['sedol','isin']].drop_duplicates().reset_index(drop=True)\n",
    "    print(len(dfids))\n",
    "    for index, row in dfids.iterrows():\n",
    "        if np.isnan(q.get_infocode(row.sedol)):\n",
    "            infocode = q.get_infocode(dfids.loc[index,'isin'])\n",
    "        else:\n",
    "            infocode = q.get_infocode(row.sedol)\n",
    "\n",
    "        infocode_list.append(infocode)\n",
    "        if not (index+1) % 200:\n",
    "            print(index+1)\n",
    "\n",
    "    dfids['infocode'] = infocode_list\n",
    "    df = pd.merge(df, dfids, how='left', on=['sedol','isin']).drop_duplicates()\n",
    "    # -----------\n",
    "\n",
    "    # get infocode from DSCODE_map \n",
    "    for index, row in dfds.iterrows():\n",
    "        df.loc[df[(df.symbol==row.symbol) & (df.dt2>=row.dtfrom) & (df.dt2<=row.dtto)].index, 'infocode'] = row.infocode\n",
    "    # -----------\n",
    "\n",
    "    del df['dt2']\n",
    "    try:\n",
    "        del df['dt']\n",
    "    except:\n",
    "        pass\n",
    "\n",
    "    df.to_csv(calcloc + f + '_info.csv', sep=';', index=False)\n",
    "\n",
    "    print('done step4')"
   ]
  },
  {
   "cell_type": "code",
   "execution_count": null,
   "metadata": {
    "collapsed": false
   },
   "outputs": [],
   "source": []
  },
  {
   "cell_type": "code",
   "execution_count": 30,
   "metadata": {
    "collapsed": false
   },
   "outputs": [
    {
     "name": "stdout",
     "output_type": "stream",
     "text": [
      "25937\n",
      "15\n",
      "fundamental download - time elapsed: 17.52422107855479 minutes\n",
      "25942\n",
      "drop dup 25942\n",
      "done\n"
     ]
    },
    {
     "data": {
      "text/html": [
       "<div>\n",
       "<table border=\"1\" class=\"dataframe\">\n",
       "  <thead>\n",
       "    <tr style=\"text-align: right;\">\n",
       "      <th></th>\n",
       "      <th>date</th>\n",
       "      <th>isin</th>\n",
       "      <th>curr</th>\n",
       "      <th>fx</th>\n",
       "      <th>sedol</th>\n",
       "      <th>icb</th>\n",
       "      <th>ffmcap_eur</th>\n",
       "      <th>name</th>\n",
       "      <th>symbol</th>\n",
       "      <th>ICB_ind</th>\n",
       "      <th>...</th>\n",
       "      <th>2501</th>\n",
       "      <th>2101</th>\n",
       "      <th>2051</th>\n",
       "      <th>4860</th>\n",
       "      <th>NI-0</th>\n",
       "      <th>NI-1</th>\n",
       "      <th>NI-2</th>\n",
       "      <th>NI-3</th>\n",
       "      <th>NI-4</th>\n",
       "      <th>NIstdev</th>\n",
       "    </tr>\n",
       "  </thead>\n",
       "  <tbody>\n",
       "    <tr>\n",
       "      <th>0</th>\n",
       "      <td>2009-12-21</td>\n",
       "      <td>AN8068571086</td>\n",
       "      <td>USD</td>\n",
       "      <td>1.0000</td>\n",
       "      <td>2779201</td>\n",
       "      <td>573</td>\n",
       "      <td>7.504034e+10</td>\n",
       "      <td>Schlumberger Ltd.</td>\n",
       "      <td>SLB</td>\n",
       "      <td>1</td>\n",
       "      <td>...</td>\n",
       "      <td>9610.000</td>\n",
       "      <td>1967.000</td>\n",
       "      <td>6087.000</td>\n",
       "      <td>5350.388</td>\n",
       "      <td>3488.601</td>\n",
       "      <td>5630.024</td>\n",
       "      <td>4923.919</td>\n",
       "      <td>3239.789</td>\n",
       "      <td>1896.835</td>\n",
       "      <td>1469.575129</td>\n",
       "    </tr>\n",
       "    <tr>\n",
       "      <th>1</th>\n",
       "      <td>2009-12-21</td>\n",
       "      <td>AT0000606306</td>\n",
       "      <td>EUR</td>\n",
       "      <td>1.4277</td>\n",
       "      <td>B0704T9</td>\n",
       "      <td>8355</td>\n",
       "      <td>2.712759e+09</td>\n",
       "      <td>Raiffeisen International Bank-</td>\n",
       "      <td>B0704T</td>\n",
       "      <td>8000</td>\n",
       "      <td>...</td>\n",
       "      <td>1241.000</td>\n",
       "      <td>NaN</td>\n",
       "      <td>NaN</td>\n",
       "      <td>1389.154</td>\n",
       "      <td>276.086</td>\n",
       "      <td>1077.058</td>\n",
       "      <td>1268.526</td>\n",
       "      <td>485.734</td>\n",
       "      <td>209.400</td>\n",
       "      <td>480.880378</td>\n",
       "    </tr>\n",
       "    <tr>\n",
       "      <th>2</th>\n",
       "      <td>2009-12-21</td>\n",
       "      <td>AT0000612601</td>\n",
       "      <td>EUR</td>\n",
       "      <td>1.4277</td>\n",
       "      <td>B067M97</td>\n",
       "      <td>4573</td>\n",
       "      <td>1.456716e+09</td>\n",
       "      <td>Intercell AG</td>\n",
       "      <td>B067M9</td>\n",
       "      <td>4000</td>\n",
       "      <td>...</td>\n",
       "      <td>55.531</td>\n",
       "      <td>3.948</td>\n",
       "      <td>10.648</td>\n",
       "      <td>-46.666</td>\n",
       "      <td>5.039</td>\n",
       "      <td>13.306</td>\n",
       "      <td>-16.468</td>\n",
       "      <td>-28.931</td>\n",
       "      <td>-25.391</td>\n",
       "      <td>18.743307</td>\n",
       "    </tr>\n",
       "  </tbody>\n",
       "</table>\n",
       "<p>3 rows × 27 columns</p>\n",
       "</div>"
      ],
      "text/plain": [
       "        date          isin curr      fx    sedol   icb    ffmcap_eur  \\\n",
       "0 2009-12-21  AN8068571086  USD  1.0000  2779201   573  7.504034e+10   \n",
       "1 2009-12-21  AT0000606306  EUR  1.4277  B0704T9  8355  2.712759e+09   \n",
       "2 2009-12-21  AT0000612601  EUR  1.4277  B067M97  4573  1.456716e+09   \n",
       "\n",
       "                             name  symbol  ICB_ind     ...           2501  \\\n",
       "0  Schlumberger Ltd.                  SLB        1     ...       9610.000   \n",
       "1  Raiffeisen International Bank-  B0704T     8000     ...       1241.000   \n",
       "2  Intercell AG                    B067M9     4000     ...         55.531   \n",
       "\n",
       "       2101      2051      4860      NI-0      NI-1      NI-2      NI-3  \\\n",
       "0  1967.000  6087.000  5350.388  3488.601  5630.024  4923.919  3239.789   \n",
       "1       NaN       NaN  1389.154   276.086  1077.058  1268.526   485.734   \n",
       "2     3.948    10.648   -46.666     5.039    13.306   -16.468   -28.931   \n",
       "\n",
       "       NI-4      NIstdev  \n",
       "0  1896.835  1469.575129  \n",
       "1   209.400   480.880378  \n",
       "2   -25.391    18.743307  \n",
       "\n",
       "[3 rows x 27 columns]"
      ]
     },
     "execution_count": 30,
     "metadata": {},
     "output_type": "execute_result"
    }
   ],
   "source": [
    "#data download - wspit\n",
    "\n",
    "import datetime as dt\n",
    "\n",
    "#dfin = pd.read_csv(calcloc +'02_jp600_info.csv', sep=';')\n",
    "dfin = pd.read_csv(calcloc +'02_global1800_info.csv', sep=';')\n",
    "\n",
    "#del dfin['dt']\n",
    "dfin = dfin[dfin.date>='2009-12-01'].sort_values(['date','isin'], ascending=[True, True]).reset_index(drop=True)\n",
    "dfin['date'] = pd.to_datetime(dfin['date'], format='%Y-%m-%d', dayfirst=True)\n",
    "#df.groupby('date').count()\n",
    "\n",
    "#small sample for test\n",
    "#dfin = dfin.iloc[-10:,:]\n",
    "#dfin = dfin[(dfin.date=='2004-12-20') & (dfin.sedol=='6259011')]\n",
    "\n",
    "time1=time.time()\n",
    "\n",
    "#delete reits\n",
    "icb_reit = ['8671','8672','8673','8674','8675','8676','8677','8737','8733',8671,8672,8673,8674,8675,8676,8677,8737,8733,'REA']\n",
    "dfin = dfin[-dfin.icb.isin(list(icb_reit))]\n",
    "\n",
    "dfin['sedol_map'] = dfin['sedol'].map(lambda x: x[:6])\n",
    "\n",
    "#dfin = dfin[['date','sedol','sedol_map']][:] #### reduce for testing\n",
    "\n",
    "def get_sqlstr(sedlst):\n",
    "    sedstr = ''\n",
    "    for s in sedlst:\n",
    "        sedstr = sedstr + s[:6] + \",\"\n",
    "    return sedstr[:-1].replace(\"'\",\"\")\n",
    "\n",
    "items_agg = ['1551','1505']\n",
    "items_last = ['3995','3255','2999','2501','2101','2051','4860']\n",
    "\n",
    "df2 = pd.DataFrame()\n",
    "\n",
    "print(len(dfin))\n",
    "ct=0\n",
    "print(len(dfin['date'].drop_duplicates()))\n",
    "for d in sorted(dfin['date'].drop_duplicates().reset_index(drop=True)):\n",
    "\n",
    "    sedlst =list(dfin[dfin.date==d]['sedol'])\n",
    "    sedstr = get_sqlstr(sedlst)\n",
    "    cd =d-dt.timedelta(days=(d.day)) #cut off date\n",
    "    \n",
    "    df1 = dfin[dfin.date==d][['date','sedol','sedol_map']].reset_index(drop=True)\n",
    "    \n",
    "    for m in range(0,5):\n",
    "        #print(m)\n",
    "        for i_a in items_agg:\n",
    "            #print(i_a)\n",
    "            dat = str(myf.add_months(cd,-m*12))[:]\n",
    "            #print(dat)\n",
    "            dffund = q.get_prod_wswspit(i_a, sedstr, dat, 'N','wspit', -14)[['sedol','value']]\n",
    "            dffund['value'] = dffund['value']\n",
    "            dffund = dffund.rename(columns={'sedol':'sedol_map','value':i_a + '-'+str(m)})\n",
    "            if len(dffund)==0:\n",
    "                print(dat, i_a + '-'+str(m), ' - zero records')\n",
    "            \n",
    "            df1 = pd.merge(df1, dffund, on='sedol_map', how='left')\n",
    "    \n",
    "    dat = str(cd)[:10]\n",
    "    for i_lst in items_last:\n",
    "        #print(i_lst, d.year)\n",
    "        if i_lst=='4860':\n",
    "            dffund = q.get_prod_wswspit(i_lst, sedstr, dat, 'N', 'wspit', -14)[['sedol','value','epsReportDate','itemUnits']]\n",
    "        elif (i_lst=='3995') & (d.year<2005):\n",
    "            #print('here')\n",
    "            dffund = q.get_prod_wswspit(i_lst, sedstr, dat, 'Y', 'ws', -14)[['sedol','value','epsReportDate','itemUnits']]\n",
    "        else:\n",
    "            dffund = q.get_prod_wswspit(i_lst, sedstr, dat, 'Y', 'wspit', -14)[['sedol','value','epsReportDate','itemUnits']]\n",
    "            dffund['value'] = dffund['value']\n",
    "            \n",
    "        dffund = dffund.rename(columns={'sedol':'sedol_map','value':i_lst, 'epsReportDate': i_lst + '_date','itemUnits':i_lst + '_cur'})\n",
    "        \n",
    "        if len(dffund)==0:\n",
    "            print(dat, i_lst, ' - zero records')\n",
    "            \n",
    "        df1 = pd.merge(df1, dffund, on='sedol_map', how='left')\n",
    "            \n",
    "    if len(df2)==0:\n",
    "        df2 = df1\n",
    "    else:\n",
    "        df2 = pd.concat([df2, df1], axis=0)\n",
    "        \n",
    "    #print(ct)\n",
    "    ct=ct+1\n",
    "\n",
    "time2=time.time()\n",
    "print('fundamental download - time elapsed:', (time2-time1)/60, 'minutes')\n",
    "\n",
    "del df2['sedol_map']\n",
    "print(len(df2))\n",
    "\n",
    "#df2.drop_duplicates().to_csv(calcloc + '03_jp600_wspit.csv' ,sep=';',index=False)\n",
    "df2.drop_duplicates().to_csv(calcloc + '03_global1800_wspit.csv' ,sep=';',index=False)\n",
    "\n",
    "print('drop dup', len(df2))\n",
    "\n",
    "for m in range(0,5):\n",
    "    df2['1505-'+str(m)] = df2['1505-'+str(m)].fillna(0)\n",
    "    df2['NI-'+str(m)] = df2['1551-'+str(m)]-df2['1505-'+str(m)]\n",
    "    del df2['1551-'+str(m)]\n",
    "    del df2['1505-'+str(m)]\n",
    "\n",
    "def nistdev(series): \n",
    "    for i in range(len(series)):\n",
    "        if np.isnan(series[i]):\n",
    "            series[i] = 0\n",
    "    ni_h=np.array(list([series[0], series[1], series[2], series[3], series[4]]))\n",
    "    if len(ni_h[ni_h!=0])>=3:\n",
    "        return np.std(ni_h[ni_h!=0], ddof=1)\n",
    "    else:\n",
    "        return np.nan\n",
    "\n",
    "df2['NIstdev'] = df2[['NI-0', 'NI-1', 'NI-2', 'NI-3', 'NI-4']].apply(nistdev, axis=1)\n",
    "\n",
    "df2 = df2[[0,1,2,5,8,11,14,17,20,23,24,25,26,27,28]]e\n",
    "\n",
    "dfin = pd.merge(dfin, df2, how='left', on=['date','sedol'])\n",
    "del dfin['sedol_map']\n",
    "\n",
    "#dfin.sort_values('date', ascending=True).to_csv(calcloc + '03_jp600_wspit_format.csv' ,sep=';',index=False)\n",
    "dfin.sort_values('date', ascending=True).to_csv(calcloc + '03_global1800_wspit_format.csv' ,sep=';',index=False)\n",
    "\n",
    "print('done')\n",
    "dfin.head(3)"
   ]
  },
  {
   "cell_type": "code",
   "execution_count": null,
   "metadata": {
    "collapsed": false
   },
   "outputs": [],
   "source": []
  },
  {
   "cell_type": "code",
   "execution_count": null,
   "metadata": {
    "collapsed": false
   },
   "outputs": [],
   "source": []
  },
  {
   "cell_type": "code",
   "execution_count": null,
   "metadata": {
    "collapsed": false,
    "scrolled": true
   },
   "outputs": [
    {
     "name": "stdout",
     "output_type": "stream",
     "text": [
      "http://www.stoxx.com/download/historical_data/h_sxw1e.txt\n",
      "25942\n"
     ]
    }
   ],
   "source": [
    "#get adtv\n",
    "\n",
    "cur = 'USD' #adtv currency\n",
    "\n",
    "#dfin = pd.read_csv(calcloc +'03_jp600_wspit_format.csv', sep=';')\n",
    "dfin = pd.read_csv(calcloc +'03_global1800_wspit_format.csv', sep=';')\n",
    "\n",
    "dfin = dfin[dfin.date>='2009-12-01'].sort_values(['date','isin'], ascending=[True, True]).reset_index(drop=True)\n",
    "#dfin['date'] = pd.to_datetime(dfin['date'], format='%Y-%m-%d', dayfirst=True)\n",
    "\n",
    "f='SXW1E' #'SX60JP'\n",
    "url='http://www.stoxx.com/download/historical_data/h_'+f.lower()+'.txt'\n",
    "#print(url)\n",
    "dfweb = myf.get_h([f], histloc, usedates=True)\n",
    "dfweb['Date']=pd.to_datetime(dfweb['Date'], format='%d.%m.%Y', dayfirst=True)\n",
    "dfweb = dfweb[-dfweb[f].isnull()].sort_values('Date', ascending=True).reset_index(drop=True)\n",
    "\n",
    "time1=time.time()\n",
    "\n",
    "wst=[]\n",
    "wslist=['adtv', # 0\n",
    "        'ctdays', # 1\n",
    "        'sedol', # 2\n",
    "        'date'] # 3\n",
    "ct=0\n",
    "#for sed in (dfin.iloc[-10:,:]['sedol']).drop_duplicates().reset_index(drop=True):\n",
    "print(len(dfin))\n",
    "for sed in (dfin['sedol']).drop_duplicates().reset_index(drop=True):\n",
    "    \n",
    "    #print(sed)\n",
    "    \n",
    "    dfsed = dfin[dfin.sedol==sed].reset_index(drop=True)\n",
    "    wsdata = [[0 for x in range(len(wslist))] for x in range(len(dfsed))]\n",
    "    #cur = dfsed.loc[0, 'curr']\n",
    "    \n",
    "    for index, row in dfsed.iterrows():\n",
    "        \n",
    "        #d=pd.to_datetime(row.date, format='%Y-%m-%d', dayfirst=True)\n",
    "        d=dt.datetime.strptime(row.date, '%Y-%m-%d')\n",
    "        #print(d)\n",
    "        d=d-dt.timedelta(days=(d.day))\n",
    "        d1=d + dt.timedelta(days=1) #first day of the month - needed for adtv calc\n",
    "\n",
    "        \n",
    "        #adtv import and calculation\n",
    "        if not np.isnan(row.infocode):\n",
    "            adtv_= q.get_adtv_prim_plus(row.sedol, d, myf.add_months(d,-13), cur, int(row.infocode))\n",
    "        else:\n",
    "            adtv_= q.get_adtv_prim_plus(row.sedol, d, myf.add_months(d,-13), cur)\n",
    "        dfctdays = dfweb[(dfweb['Date']<=d) & (dfweb['Date']>=myf.add_months(d1,-3))].sort_values('Date', ascending=False).reset_index(drop=True)\n",
    "        \n",
    "        \n",
    "        if len(adtv_)==0:\n",
    "            wsdata[index][0] = 0\n",
    "        else: \n",
    "            adtv_=adtv_[-adtv_.close_.isnull()].sort_values('marketdate', ascending=False).reset_index(drop=True)\n",
    "            \n",
    "            if len(dfctdays)>0:\n",
    "                dfadtv=pd.merge(dfctdays, adtv_, how='left', left_on='Date', right_on='marketdate').iloc[:,[0,3,4]] #left join to get sxjp600 days, even if zero value\n",
    "                wsdata[index][0] = (dfadtv.loc[:,'close_'] * dfadtv.loc[:,'volume']).sum() / len(dfctdays)\n",
    "                wsdata[index][1] = len(dfctdays)\n",
    "            else:\n",
    "                wsdata[index][0] = 0\n",
    "                wsdata[index][1] = 0\n",
    "\n",
    "        wsdata[index][2] = sed\n",
    "        wsdata[index][3] = row.date\n",
    "        \n",
    "        if ct==0:\n",
    "            wsdataall = pd.DataFrame(wsdata, columns=wslist)\n",
    "        else:\n",
    "            wsdataall = pd.concat([wsdataall, pd.DataFrame(wsdata, columns=wslist)], axis=0)\n",
    "        \n",
    "        if not (ct+1) % 500:\n",
    "            print(' -- ', ct+1, ' -- ')\n",
    "        \n",
    "        ct=ct+1\n",
    "\n",
    "del wsdataall['ctdays']\n",
    "\n",
    "dfin = pd.merge(dfin, wsdataall, how='left', left_on=['date','sedol'], right_on=['date','sedol']).sort_values(['date','isin'], ascending=[True, True]).drop_duplicates()        \n",
    "\n",
    "time2=time.time()\n",
    "print('time elapsed:', (time2-time1)/60, 'minutes')\n",
    "\n",
    "#dfin.to_csv(calcloc + '04_jp600_data.csv' ,sep=';',index=False)\n",
    "dfin.to_csv(calcloc + '04_global1800_data.csv' ,sep=';',index=False)\n"
   ]
  },
  {
   "cell_type": "code",
   "execution_count": 39,
   "metadata": {
    "collapsed": false
   },
   "outputs": [
    {
     "data": {
      "text/html": [
       "<div>\n",
       "<table border=\"1\" class=\"dataframe\">\n",
       "  <thead>\n",
       "    <tr style=\"text-align: right;\">\n",
       "      <th></th>\n",
       "      <th>sedol</th>\n",
       "      <th>sedol7</th>\n",
       "      <th>isin</th>\n",
       "      <th>dj_id</th>\n",
       "      <th>name</th>\n",
       "      <th>code</th>\n",
       "      <th>currencyOfDocument</th>\n",
       "      <th>epsReportDate</th>\n",
       "      <th>fiscalPeriodEndDate</th>\n",
       "      <th>value</th>\n",
       "      <th>year_</th>\n",
       "      <th>freq</th>\n",
       "      <th>item</th>\n",
       "      <th>seq</th>\n",
       "      <th>periodUpdateFlag</th>\n",
       "      <th>itemUnits</th>\n",
       "      <th>latest_value</th>\n",
       "    </tr>\n",
       "  </thead>\n",
       "  <tbody>\n",
       "  </tbody>\n",
       "</table>\n",
       "</div>"
      ],
      "text/plain": [
       "Empty DataFrame\n",
       "Columns: [sedol, sedol7, isin, dj_id, name, code, currencyOfDocument, epsReportDate, fiscalPeriodEndDate, value, year_, freq, item, seq, periodUpdateFlag, itemUnits, latest_value]\n",
       "Index: []"
      ]
     },
     "execution_count": 39,
     "metadata": {},
     "output_type": "execute_result"
    }
   ],
   "source": [
    "f = 4680 # Net income\n",
    "s = 'B1G185' \n",
    "d = '2013-05-31'\n",
    "final = 'N'\n",
    "\n",
    "q.get_prod_wswspit(f, s, d, final, 'wspit', -24)"
   ]
  },
  {
   "cell_type": "code",
   "execution_count": 51,
   "metadata": {
    "collapsed": false
   },
   "outputs": [
    {
     "data": {
      "text/plain": [
       "(array([  0.,   2.,   4.,   6.,   8.,  10.,  12.,  14.]),\n",
       " <a list of 8 Text xticklabel objects>)"
      ]
     },
     "execution_count": 51,
     "metadata": {},
     "output_type": "execute_result"
    },
    {
     "data": {
      "image/png": "[encoded data removed]",
      "text/plain": [
       "<matplotlib.figure.Figure at 0xa0f1e48>"
      ]
     },
     "metadata": {},
     "output_type": "display_data"
    }
   ],
   "source": [
    "#coverage\n",
    "fld = 'NI-0' # 'NI-0' 4860\n",
    "df = pd.read_csv(calcloc +'03_jp600_wspit_format.csv', sep=';')\n",
    "a = df[-(df[fld].isnull())].groupby('date').count()['sedol']\n",
    "b = df.groupby('date').count()['sedol']\n",
    "(a/b).plot()\n",
    "plt.xticks(rotation=45)"
   ]
  },
  {
   "cell_type": "code",
   "execution_count": 64,
   "metadata": {
    "collapsed": false
   },
   "outputs": [
    {
     "data": {
      "text/plain": [
       "(array([  0.,   2.,   4.,   6.,   8.,  10.,  12.,  14.]),\n",
       " <a list of 8 Text xticklabel objects>)"
      ]
     },
     "execution_count": 64,
     "metadata": {},
     "output_type": "execute_result"
    },
    {
     "data": {
      "image/png": "[encoded data removed]",
      "text/plain": [
       "<matplotlib.figure.Figure at 0xec0a828>"
      ]
     },
     "metadata": {},
     "output_type": "display_data"
    }
   ],
   "source": [
    "#coverage\n",
    "fld = '4860' # 'NI-0' 4860\n",
    "df = pd.read_csv(calcloc +'03_jp600_wspit_format.csv', sep=';')\n",
    "a = df[-(df[fld].isnull())].groupby('date').count()['sedol']\n",
    "b = df.groupby('date').count()['sedol']\n",
    "(a/b).plot()\n",
    "plt.xticks(rotation=45)"
   ]
  },
  {
   "cell_type": "code",
   "execution_count": 47,
   "metadata": {
    "collapsed": false
   },
   "outputs": [
    {
     "data": {
      "text/html": [
       "<div>\n",
       "<table border=\"1\" class=\"dataframe\">\n",
       "  <thead>\n",
       "    <tr style=\"text-align: right;\">\n",
       "      <th></th>\n",
       "      <th>sedol</th>\n",
       "      <th>sedol7</th>\n",
       "      <th>isin</th>\n",
       "      <th>dj_id</th>\n",
       "      <th>name</th>\n",
       "      <th>code</th>\n",
       "      <th>currencyOfDocument</th>\n",
       "      <th>epsReportDate</th>\n",
       "      <th>fiscalPeriodEndDate</th>\n",
       "      <th>value</th>\n",
       "      <th>year_</th>\n",
       "      <th>freq</th>\n",
       "      <th>item</th>\n",
       "      <th>seq</th>\n",
       "      <th>periodUpdateFlag</th>\n",
       "      <th>itemUnits</th>\n",
       "      <th>latest_value</th>\n",
       "    </tr>\n",
       "  </thead>\n",
       "  <tbody>\n",
       "    <tr>\n",
       "      <th>0</th>\n",
       "      <td>B89C2N</td>\n",
       "      <td>None</td>\n",
       "      <td>None</td>\n",
       "      <td>None</td>\n",
       "      <td>NISSHIN STEEL CO L NPV</td>\n",
       "      <td>86631</td>\n",
       "      <td>None</td>\n",
       "      <td>2013-04-24</td>\n",
       "      <td>2012-03-31</td>\n",
       "      <td>42075.0</td>\n",
       "      <td>2012</td>\n",
       "      <td>A</td>\n",
       "      <td>4860</td>\n",
       "      <td>1</td>\n",
       "      <td>None</td>\n",
       "      <td>JPY</td>\n",
       "      <td>1</td>\n",
       "    </tr>\n",
       "  </tbody>\n",
       "</table>\n",
       "</div>"
      ],
      "text/plain": [
       "    sedol sedol7  isin dj_id                    name   code  \\\n",
       "0  B89C2N   None  None  None  NISSHIN STEEL CO L NPV  86631   \n",
       "\n",
       "  currencyOfDocument epsReportDate fiscalPeriodEndDate    value  year_ freq  \\\n",
       "0               None    2013-04-24          2012-03-31  42075.0   2012    A   \n",
       "\n",
       "   item  seq periodUpdateFlag itemUnits  latest_value  \n",
       "0  4860    1             None       JPY             1  "
      ]
     },
     "execution_count": 47,
     "metadata": {},
     "output_type": "execute_result"
    }
   ],
   "source": [
    "f = 4860 # Net income\n",
    "s = 'B89C2N' \n",
    "d = '2013-05-31'\n",
    "final = 'N'\n",
    "\n",
    "q.get_prod_wswspit(f, s, d, final, 'wspit', -14)"
   ]
  },
  {
   "cell_type": "code",
   "execution_count": 43,
   "metadata": {
    "collapsed": false
   },
   "outputs": [
    {
     "data": {
      "text/html": [
       "<div>\n",
       "<table border=\"1\" class=\"dataframe\">\n",
       "  <thead>\n",
       "    <tr style=\"text-align: right;\">\n",
       "      <th></th>\n",
       "      <th>Code</th>\n",
       "      <th>PointDate</th>\n",
       "      <th>FreqCode</th>\n",
       "      <th>FiscalPrd</th>\n",
       "      <th>Item</th>\n",
       "      <th>Value_</th>\n",
       "      <th>CalPrdEndDate</th>\n",
       "    </tr>\n",
       "  </thead>\n",
       "  <tbody>\n",
       "    <tr>\n",
       "      <th>1</th>\n",
       "      <td>86631</td>\n",
       "      <td>2013-04-24</td>\n",
       "      <td>1</td>\n",
       "      <td>2012</td>\n",
       "      <td>4860</td>\n",
       "      <td>42075.0</td>\n",
       "      <td>2012-03-31</td>\n",
       "    </tr>\n",
       "    <tr>\n",
       "      <th>0</th>\n",
       "      <td>86631</td>\n",
       "      <td>2013-04-24</td>\n",
       "      <td>1</td>\n",
       "      <td>2011</td>\n",
       "      <td>4860</td>\n",
       "      <td>24426.0</td>\n",
       "      <td>2011-03-31</td>\n",
       "    </tr>\n",
       "  </tbody>\n",
       "</table>\n",
       "</div>"
      ],
      "text/plain": [
       "    Code  PointDate  FreqCode  FiscalPrd  Item   Value_ CalPrdEndDate\n",
       "1  86631 2013-04-24         1       2012  4860  42075.0    2012-03-31\n",
       "0  86631 2013-04-24         1       2011  4860  24426.0    2011-03-31"
      ]
     },
     "execution_count": 43,
     "metadata": {},
     "output_type": "execute_result"
    }
   ],
   "source": [
    "sedol6 = 'B89C2N'\n",
    "item = 4860\n",
    "\n",
    "x = q.get_wspit_data(sedol6, item)\n",
    "x[(x.PointDate<='2013-05-31')].head(10)# & (x.FreqCode==1)]"
   ]
  },
  {
   "cell_type": "code",
   "execution_count": null,
   "metadata": {
    "collapsed": false
   },
   "outputs": [],
   "source": [
    "#get esg data\n",
    "import scipy.stats as stats\n",
    "\n",
    "dfjp = pd.read_csv(calcloc + '04_jp600_data.csv' ,sep=';', dtype={'sedol': str})\n",
    "\n",
    "dfjp = dfjp[dfjp.date<='2016-10-01'].reset_index(drop=True) #temporly, before getting 201611 data\n",
    "\n",
    "id_incidents=np.array([0,55,97,109,151,187,229,277,352,388,442])\n",
    "\n",
    "id_management=np.array([0,3,10,16,37,58,66,69,70,76,79,85,88,91,94,100,112,115,118,121,127,145,\n",
    "                        148,154,157,163,169,226,232,235,238,280,286,301,307,310,316,319,322,325,\n",
    "                        328,331,334,340,343,346,349,355,358,361,406])\n",
    "\n",
    "dfesg1 = pd.DataFrame(); dfesg2 = pd.DataFrame()\n",
    "dfjp['map'] = ''\n",
    "for dat in dfjp.date.drop_duplicates():\n",
    "\n",
    "    d = dt.datetime.strptime(dat, '%Y-%m-%d')\n",
    "    dprev = d-dt.timedelta(days=(d.day+1))\n",
    "    yr = str(dprev.year)\n",
    "    mth = str(dprev.month)\n",
    "    if len(mth)==1:\n",
    "        mth = '0' + mth\n",
    "    dfjp.loc[dfjp[dfjp.date==dat].index, 'map'] = yr + mth\n",
    "    \n",
    "    dfesg = pd.read_excel(esgloc + yr + mth + '_Japan.xlsx', sheetname='Sheet1')\n",
    "    dfesg = dfesg.rename(columns={'SEDOL':'sedol'})\n",
    "    dfesg['sedol'] = dfesg['sedol'].map(lambda x: str(x))\n",
    "\n",
    "    dfesg1_ = dfesg[id_incidents]#.dropna().reset_index(drop=True)\n",
    "    dfesg1_['map'] = yr + mth\n",
    "    dfesg1 = pd.concat([dfesg1, dfesg1_], axis=0)\n",
    "\n",
    "    dfesg2_ = dfesg[id_management]\n",
    "    dfesg2_['map'] = yr + mth\n",
    "    dfesg2 = pd.concat([dfesg2, dfesg2_], axis=0)\n",
    "\n",
    "col_incidents = dfesg[id_incidents[1:]].columns\n",
    "col_management = dfesg[id_management[1:]].columns\n",
    "dfjp = pd.merge(dfjp, dfesg1, how='left', on= ['sedol','map'])\n",
    "dfjp = pd.merge(dfjp, dfesg2, how='left', on= ['sedol','map'])\n",
    "#dfesg2.to_csv(calcloc + '99_esg2_.csv' ,sep=';',index=False)\n",
    "#dfesg1.to_csv(calcloc + '99_esg1_.csv' ,sep=';',index=False)\n",
    "\n",
    "dfjp.to_csv(calcloc + '05_jp600_data_esg.csv' ,sep=';',index=False)\n",
    "print('done')"
   ]
  },
  {
   "cell_type": "code",
   "execution_count": 5,
   "metadata": {
    "collapsed": false,
    "scrolled": true
   },
   "outputs": [
    {
     "name": "stdout",
     "output_type": "stream",
     "text": [
      "G105000-Score\n",
      "G213000-Score\n",
      "G304000-Score\n",
      "S107000-Score\n",
      "S203000-Score\n",
      "S303000-Score\n",
      "S403000-Score\n",
      "E112000-Score\n",
      "E202000-Score\n",
      "E302000-Score\n"
     ]
    }
   ],
   "source": [
    "dfesg = pd.read_excel(esgloc + '201605_Japan.xlsx', sheetname='Sheet1')\n",
    "id_incidents=np.array([0,55,97,109,151,187,229,277,352,388,442])\n",
    "id_management=np.array([0,3,10,16,37,58,66,69,70,76,79,85,88,91,94,100,112,115,118,121,127,145,\n",
    "                        148,154,157,163,169,226,232,235,238,280,286,301,307,310,316,319,322,325,\n",
    "                        328,331,334,340,343,346,349,355,358,361,406])\n",
    "\n",
    "col_incidents = dfesg[id_incidents[1:]].columns\n",
    "col_management = dfesg[id_management[2:]].columns\n",
    "\n",
    "#print(col_management)\n",
    "for c in col_incidents:\n",
    "    print(c)"
   ]
  },
  {
   "cell_type": "code",
   "execution_count": null,
   "metadata": {
    "collapsed": false
   },
   "outputs": [],
   "source": []
  },
  {
   "cell_type": "code",
   "execution_count": 62,
   "metadata": {
    "collapsed": false
   },
   "outputs": [
    {
     "name": "stderr",
     "output_type": "stream",
     "text": [
      "C:\\Users\\iv822\\AppData\\Local\\Continuum\\Anaconda3\\lib\\site-packages\\pandas\\core\\frame.py:2762: SettingWithCopyWarning: \n",
      "A value is trying to be set on a copy of a slice from a DataFrame\n",
      "\n",
      "See the caveats in the documentation: http://pandas.pydata.org/pandas-docs/stable/indexing.html#indexing-view-versus-copy\n",
      "  downcast=downcast, **kwargs)\n",
      "C:\\Users\\iv822\\AppData\\Local\\Continuum\\Anaconda3\\lib\\site-packages\\numpy\\core\\_methods.py:59: RuntimeWarning: Mean of empty slice.\n",
      "  warnings.warn(\"Mean of empty slice.\", RuntimeWarning)\n",
      "C:\\Users\\iv822\\AppData\\Local\\Continuum\\Anaconda3\\lib\\site-packages\\ipykernel\\__main__.py:140: DeprecationWarning: numpy boolean negative, the `-` operator, is deprecated, use the `~` operator or the logical_not function instead.\n"
     ]
    },
    {
     "name": "stdout",
     "output_type": "stream",
     "text": [
      "2009-12-21 - 200 - 200\n",
      "2010-06-21 - 45 - 200\n",
      "2010-12-20 - 47 - 200\n",
      "2011-06-20 - 38 - 200\n",
      "2011-12-19 - 27 - 200\n",
      "2012-06-18 - 29 - 200\n",
      "2012-12-24 - 27 - 200\n",
      "2013-06-24 - 29 - 200\n",
      "2013-12-23 - 31 - 200\n",
      "2014-06-23 - 35 - 200\n",
      "2014-12-22 - 25 - 200\n",
      "2015-06-22 - 35 - 200\n",
      "2015-12-21 - 34 - 200\n",
      "2016-06-20 - 20 - 200\n"
     ]
    },
    {
     "name": "stderr",
     "output_type": "stream",
     "text": [
      "C:\\Users\\iv822\\Documents\\Python Scripts\\myfunctions.py:879: FutureWarning: sort(columns=....) is deprecated, use sort_values(by=.....)\n",
      "  df_comp = df_comp.sort(df_comp.columns[0],ascending=False)\n"
     ]
    },
    {
     "name": "stdout",
     "output_type": "stream",
     "text": [
      "weighting done\n",
      "done\n"
     ]
    }
   ],
   "source": [
    "#selection ESG\n",
    "\n",
    "import scipy.stats as stats\n",
    "\n",
    "##get the esg column tags\n",
    "id_incidents=np.array([0,55,97,109,151,187,229,277,352,388,442])\n",
    "id_management=np.array([0,3,10,16,37,58,66,69,70,76,79,85,88,91,94,100,112,115,118,121,127,145,\n",
    "                        148,154,157,163,169,226,232,235,238,280,286,301,307,310,316,319,322,325,\n",
    "                        328,331,334,340,343,346,349,355,358,361,406])\n",
    "\n",
    "dfesg = pd.read_excel(esgloc + '201605_Japan.xlsx', sheetname='Sheet1')\n",
    "col_incidents = dfesg[id_incidents[1:]].columns\n",
    "col_management = dfesg[id_management[2:]].columns\n",
    "##\n",
    "\n",
    "dfjp = pd.read_csv(calcloc + '05_jp600_data_esg.csv' ,sep=';')\n",
    "\n",
    "dfjp[['2501','2101','2051']].fillna(0, inplace=True)\n",
    "dfjp['ROE'] = dfjp['NI-0'] / dfjp['3995']\n",
    "dfjp['Cap2Asset'] = dfjp['3255'] / (dfjp['3995'] + dfjp['3255'])\n",
    "dfjp['CFGenInd'] = dfjp.loc[dfjp[dfjp['ICB_ind']!=8000].index, '4860'] / (dfjp['2501'] + dfjp['2101'] + dfjp['2051'])\n",
    "dfjp.loc[dfjp[dfjp['ICB_ind']==8000].index,'CFGenFin'] = dfjp.loc[dfjp[dfjp['ICB_ind']==8000].index, '4860'] / dfjp['2999']\n",
    "dfjp['Stability'] = dfjp['NIstdev'] / dfjp['3995']\n",
    "\n",
    "#ESG1 score\n",
    "def f1(series):\n",
    "    inc_sum = series[0] + series[1] + series[2] + series[3] + series[4] + series[5] + series[6] + series[7] + series[8] + series[9]\n",
    "    inc_ct = len(series[-series.isnull()])\n",
    "    return inc_sum / inc_ct\n",
    "elig_idx = dfjp[-dfjp.peer_group.isnull()].index\n",
    "dfjp.loc[elig_idx,'ESG1'] = dfjp.loc[elig_idx, list(col_incidents)].apply(f1, axis=1)\n",
    "    \n",
    "    \n",
    "dfjp['ROE_missing'] = 'ok'\n",
    "dfjp.loc[dfjp[(dfjp['3995']<0) | (dfjp['NI-0']<0)].index,'ROE_missing'] = 'missing'\n",
    "\n",
    "dfjp['C2A_missing'] = 'ok'\n",
    "dfjp.loc[dfjp[(dfjp['3995']<0)].index,'C2A_missing'] = 'missing'\n",
    "\n",
    "#calculate ranking for scoring - using mcap as a second ranking criterion\n",
    "for d in dfjp.sort_values('date', ascending=True)['date'].drop_duplicates():\n",
    "    dfidx1 = dfjp[dfjp.date==d].sort_values(['adtv','ffmcap_eur'], ascending=[False, False])[['adtv','ffmcap_eur']].index\n",
    "    rk1 = np.arange(len(dfjp[dfjp.date==d])-1, -1, -1)\n",
    "    dfjp.loc[dfidx1, 'rkadtv'] = rk1\n",
    "    dfjp.loc[dfidx1, 'rkadtv'] = dfjp.loc[dfidx1, 'rkadtv'].map(lambda x: stats.percentileofscore(rk1, x, kind='rank')/100.)\n",
    "\n",
    "    dfidx2 = dfjp[(dfjp.date==d) & (dfjp.ROE_missing=='ok')].sort_values(['ROE','ffmcap_eur'], ascending=[False, False])[['ROE','ffmcap_eur']].index\n",
    "    rk2 = np.arange(len(dfjp[(dfjp.date==d) & (dfjp.ROE_missing=='ok')])-1, -1, -1)\n",
    "    dfjp.loc[dfidx2, 'rkROE'] = rk2\n",
    "    dfjp.loc[dfidx2, 'rkROE'] = dfjp.loc[dfidx2, 'rkROE'].map(lambda x: stats.percentileofscore(rk2, x, kind='rank')/100.)\n",
    "\n",
    "    dfidx3 = dfjp[(dfjp.date==d) & (dfjp.C2A_missing=='ok')].sort_values(['Cap2Asset','ffmcap_eur'], ascending=[True, False])[['Cap2Asset','ffmcap_eur']].index\n",
    "    rk3 = np.arange(len(dfjp[(dfjp.date==d) & (dfjp.C2A_missing=='ok')])-1, -1, -1)\n",
    "    dfjp.loc[dfidx3, 'rkC2A'] = rk3\n",
    "    dfjp.loc[dfidx3, 'rkC2A'] = dfjp.loc[dfidx3, 'rkC2A'].map(lambda x: stats.percentileofscore(rk3, x, kind='rank')/100.)\n",
    "    \n",
    "    dfidx4_1 = dfjp[(dfjp.date==d) & (-dfjp.CFGenInd.isnull())].sort_values(['CFGenInd','ffmcap_eur'], ascending=[False, False])[['CFGenInd','ffmcap_eur']].index\n",
    "    dfidx4_2 = dfjp[(dfjp.date==d) & (-dfjp.CFGenFin.isnull())].sort_values(['CFGenFin','ffmcap_eur'], ascending=[False, False])[['CFGenFin','ffmcap_eur']].index\n",
    "    rk4_1 = np.arange(len(dfjp[(dfjp.date==d) & (-dfjp.CFGenInd.isnull())])-1, -1, -1)\n",
    "    rk4_2 = np.arange(len(dfjp[(dfjp.date==d) & (-dfjp.CFGenFin.isnull())])-1, -1, -1)\n",
    "    dfjp.loc[dfidx4_1, 'rkS_1'] = rk4_1\n",
    "    dfjp.loc[dfidx4_1, 'rkS_1'] = dfjp.loc[dfidx4_1, 'rkS_1'].map(lambda x: stats.percentileofscore(rk4_1, x, kind='rank')/100.)\n",
    "    dfjp.loc[dfidx4_2, 'rkS_2'] = rk4_2\n",
    "    dfjp.loc[dfidx4_2, 'rkS_2'] = dfjp.loc[dfidx4_2, 'rkS_2'].map(lambda x: stats.percentileofscore(rk4_2, x, kind='rank')/100.)\n",
    "    bothix = dfidx4_1.append(dfidx4_2)\n",
    "    dfjp.loc[bothix, ['rkS_1', 'rkS_2']] = dfjp.loc[bothix, ['rkS_1', 'rkS_2']].fillna(0)\n",
    "    \n",
    "    dfidx5 = dfjp[dfjp.date==d].sort_values(['Stability','ffmcap_eur'], ascending=[True, False])[['Stability','ffmcap_eur']].index\n",
    "    rk5 = np.arange(len(dfjp[dfjp.date==d])-1, -1, -1)\n",
    "    dfjp.loc[dfidx5, 'rkStabil'] = rk5\n",
    "    dfjp.loc[dfidx5, 'rkStabil'] = dfjp.loc[dfidx5, 'rkStabil'].map(lambda x: stats.percentileofscore(rk5, x, kind='rank')/100.)\n",
    "    \n",
    "    dfidx6 = dfjp[(-dfjp.peer_group.isnull()) & (dfjp.date==d)].sort_values(['ESG1','ffmcap_eur'], ascending=[False, False])[['ESG1','ffmcap_eur']].index\n",
    "    rk6 = np.arange(len(dfjp[(-dfjp.peer_group.isnull()) & (dfjp.date==d)])-1, -1, -1)    \n",
    "    dfjp.loc[dfidx6, 'scree_ESG1'] = rk6\n",
    "    dfjp.loc[dfidx6, 'scree_ESG1'] = dfjp.loc[dfidx6, 'scree_ESG1'].map(lambda x: stats.percentileofscore(rk6, x, kind='rank')/100.)\n",
    "    \n",
    "    #ESG2 score - col_management\n",
    "    for pg in dfjp[(dfjp.date==d) & (-dfjp.peer_group.isnull())]['peer_group'].drop_duplicates():\n",
    "        idx_scores = (dfjp[(dfjp.date==d) & (dfjp.peer_group==pg)]).index\n",
    "        item_scores = dfjp.loc[idx_scores, col_management]\n",
    "        avg_pg = [mean(x[(x>=0) | (x<0)]) for x in np.array(item_scores).T] #average per peer_group\n",
    "        dfjp.loc[idx_scores, 'ESG2_pre'] = [mean(y[(y>=0) | (y<0)]) for y in np.array(item_scores-avg_pg)]\n",
    "        \n",
    "    dfidx7 = dfjp[(-dfjp.peer_group.isnull()) & (dfjp.date==d)].sort_values(['ESG2_pre','ffmcap_eur'], ascending=[False, False])[['ESG2_pre','ffmcap_eur']].index\n",
    "    rk7 = np.arange(len(dfjp[(-dfjp.peer_group.isnull()) & (dfjp.date==d)])-1, -1, -1)    \n",
    "    dfjp.loc[dfidx7, 'rkESG2'] = rk7\n",
    "    dfjp.loc[dfidx7, 'rkESG2'] = dfjp.loc[dfidx7, 'rkESG2'].map(lambda x: stats.percentileofscore(rk7, x, kind='rank')/100.)\n",
    "       \n",
    "dfjp['scree_ESG1'] = dfjp['scree_ESG1'].fillna(0.5)\n",
    "    \n",
    "dfjp['ESG2'] = dfjp['rkESG2'].map(lambda x: max(0, x-0.5)) * 2\n",
    "dfjp['ESG2'] = dfjp['ESG2'].fillna(0)\n",
    "\n",
    "dfjp['rkCFGen'] = dfjp['rkS_1'] + dfjp['rkS_2']\n",
    "del dfjp['rkS_1']\n",
    "del dfjp['rkS_2']\n",
    "\n",
    "#calculate ranking for screening (rank the rank)\n",
    "scree_criteria =['adtv', 'ROE', 'C2A', 'CFGen', 'Stabil']\n",
    "for sc in scree_criteria:\n",
    "    dfjp['scree_'+sc] = -1\n",
    "    \n",
    "for d in dfjp.sort_values('date', ascending=True)['date'].drop_duplicates():\n",
    "    for sc in scree_criteria:\n",
    "        dfidx = dfjp[dfjp.date==d].sort_values(['rk'+sc,'ffmcap_eur'], ascending=[False, False])[['rk'+sc,'ffmcap_eur']].index\n",
    "        rk = np.arange(len(dfjp[dfjp.date==d])-1, -1, -1)\n",
    "        dfjp.loc[dfidx, 'scree_'+sc] = rk\n",
    "        dfjp.loc[dfidx, 'scree_'+sc] = dfjp.loc[dfidx, 'scree_'+sc].map(lambda x: stats.percentileofscore(rk, x, kind='rank')/100.)\n",
    "\n",
    "dfjp['factor_screen'] = ''\n",
    "idxout = dfjp[(dfjp.scree_ROE<0.2) | (dfjp.scree_C2A<0.05) | (dfjp.scree_CFGen<0.05) | \n",
    "              (dfjp.scree_Stabil<0.05) | (dfjp.scree_ESG1<0.1)].index\n",
    "dfjp.loc[idxout, 'factor_screen'] = 'out'\n",
    "\n",
    "dfjp['final_score'] = ''\n",
    "idxin = dfjp[dfjp['factor_screen']!='out'].index\n",
    "dfjp.loc[idxin, 'final_score'] = dfjp['rkROE']*0.4 + ((dfjp['rkC2A'] + dfjp['rkCFGen'] \n",
    "                                                       + dfjp['rkStabil'])*0.4/3) + dfjp['ESG2']*0.2\n",
    "\n",
    "#component selection\n",
    "dfjp['old'] = False\n",
    "dfjp['rkFinal'] = np.nan\n",
    "dfjp['new'] = False\n",
    "ct=0\n",
    "for d in dfjp.sort_values('date', ascending=True)['date'].drop_duplicates():\n",
    "    ct=ct+1\n",
    "    if ct==1:\n",
    "        dfjp.loc[dfjp[dfjp.date==d].index,'old'] = False\n",
    "    else:\n",
    "        #mark the current components\n",
    "        dfnew = dfjp[(dfjp.date==d)][['infocode']] #take all current candidates\n",
    "        dfnew = pd.merge(dfnew, dfold, how='left', on='infocode') #link old (column new)\n",
    "        dfnew['new'] = dfnew['new'].fillna(False)\n",
    "        listold = dfnew['new'].tolist()\n",
    "        dfjp.loc[dfjp[dfjp.date==d].index,'old'] = listold\n",
    "\n",
    "    index2del = dfjp[(dfjp.date==d) & (dfjp.old==False) & (dfjp.rkadtv<0.2)].index\n",
    "\n",
    "    rkFinal = dfjp[(dfjp.date==d) & -(dfjp.index.isin(index2del)) & (dfjp.final_score!='') & -(dfjp.final_score.isnull())]['final_score'].rank(ascending=0)\n",
    "    dfjp.loc[rkFinal.index,'rkFinal'] = rkFinal\n",
    "    #For current components of the index, if its Quality score is more than 95% of the Quality score \n",
    "    #of the 200th stock, then it will remain in the index\n",
    "    try:\n",
    "        qualitybuffer = dfjp[(dfjp.date==d) & (dfjp['rkFinal']==200)].reset_index(drop=True).loc[0,'final_score'] * 0.95    \n",
    "    except:\n",
    "        qualitybuffer = 0\n",
    "\n",
    "    ix1 = dfjp.loc[rkFinal.index,:].index[dfjp.loc[rkFinal.index,'final_score']>qualitybuffer]\n",
    "    ix2 = dfjp[(dfjp.date==d) & (dfjp.old==True)].index\n",
    "    dfjp.loc[ix1.intersection(ix2),'new'] = True\n",
    "    \n",
    "    count200 = 200 - (dfjp[(dfjp.date==d) & (dfjp.new==True)].count()['isin'])\n",
    "    idxcount200 = (dfjp[(dfjp.date==d) & (dfjp['new']==False)].sort_values('rkFinal', ascending=True)['new'].head(count200)).index\n",
    "    dfjp.loc[idxcount200, 'new'] = True\n",
    "    numcomp = dfjp.loc[(dfjp.date==d) & (dfjp.new==True)].count()['isin']\n",
    "    print(d, '-', count200, '-', numcomp)\n",
    "    \n",
    "    dfold = dfjp[(dfjp.date==d) & (dfjp.new==True)][['infocode','new']]\n",
    "\n",
    "dfjp.sort_values(['date','rkFinal'], ascending=[True,True]).to_csv(calcloc + '06_jp_quality_esg_sel_list.csv' ,sep=';',index=False)\n",
    "\n",
    "#checked\n",
    "\n",
    "dfjp['ffmcap_jpy'] = dfjp['ffmcap_eur'] / dfjp['fx']\n",
    "dfjp = dfjp[dfjp.new==True][[0,1,2,3,4,5,7,8,9,10,11,6,115,38,111,113]].sort_values(['date','ffmcap_eur'], ascending=[True,False])\n",
    "dfjp.reset_index(inplace=True, drop=True)\n",
    "\n",
    "dfjp['wgt']=0\n",
    "dfjp['cap']=0.02\n",
    "dfjp['capfactor']=0\n",
    "dfjp['cappedwgt']=0\n",
    "sumcap = dfjp.groupby('date').sum()['ffmcap_jpy']\n",
    "ctcomps = dfjp.groupby('date').count()['symbol']\n",
    "\n",
    "for i in range(len(sumcap)):\n",
    "    wgt = dfjp.loc[dfjp[dfjp.date==sumcap.index[i]].index, 'ffmcap_jpy'] / sumcap[i]\n",
    "    dfjp.loc[wgt.index,'wgt'] = wgt\n",
    "    #dfjp.loc[wgt.index,'wgt'] = 100./ctcomps[i] # weight equal weighted (comment out) ***********************\n",
    "    dfftrs = myf.calccapfacs(dfjp.loc[dfjp[dfjp.date==sumcap.index[i]].index,['wgt','cap']])\n",
    "    dfftrs.index = dfjp[dfjp.date==sumcap.index[i]].index #reindex the capfactor df so corresponds to the target df indices\n",
    "    dfjp.loc[wgt.index,'capfactor'] = dfftrs['capfactor']\n",
    "    dfjp.loc[wgt.index,'cappedwgt'] = dfftrs['cappedwgt']\n",
    "\n",
    "dfjp.to_csv(calcloc + '07_jp_quality_esg_wgts.csv', sep=';',index=False)\n",
    "\n",
    "print('weighting done')\n",
    "\n",
    "#index factory files\n",
    "dfjp['cusip'] = np.nan\n",
    "for z in ['ISMJSUP', 'ISMJSUN', 'ISMJSUG']:\n",
    "    for d in dfjp.sort_values('date', ascending=True)['date'].drop_duplicates():\n",
    "        dfif = dfjp[(dfjp.date==d)][['sedol','cusip','isin','cappedwgt']]\n",
    "        dfif.columns = ['SEDOL<string>','CUSIP<string>','ISIN<string>','Weight']\n",
    "        #dfif.to_csv(histloc + '03 index factory/ISMJSU/' + z + '_' + str(d).replace('-','') + '.csv', float_format='%.9f',index=False)    \n",
    "    #print('index factory files for ' + z + ' generated')\n",
    "    \n",
    "print('done')"
   ]
  },
  {
   "cell_type": "code",
   "execution_count": null,
   "metadata": {
    "collapsed": true
   },
   "outputs": [],
   "source": []
  },
  {
   "cell_type": "code",
   "execution_count": 37,
   "metadata": {
    "collapsed": false
   },
   "outputs": [
    {
     "data": {
      "image/png": "[encoded data removed]",
      "text/plain": [
       "<matplotlib.figure.Figure at 0x9433a90>"
      ]
     },
     "metadata": {},
     "output_type": "display_data"
    }
   ],
   "source": [
    "#graphical representaion of ESG2 function\n",
    "import numpy as np\n",
    "import matplotlib.pyplot as plt\n",
    "\n",
    "t = np.arange(-4., 4.0, 0.01)\n",
    "\n",
    "def f_(x):\n",
    "    return max(0, x-0.5) * 2.\n",
    "\n",
    "def f(x):\n",
    "    return 1. / (1. + exp(-x))\n",
    "\n",
    "vecf = np.vectorize(f)\n",
    "vecf(t)\n",
    "\n",
    "#plt.plot(t, t, 'r--', t, vecf(t), 'b-')\n",
    "#plt.show()\n",
    "fig, ax = plt.subplots()\n",
    "ax.plot(t, t, 'r--', label='ESG2_percentile rank')\n",
    "ax.plot(t, vecf(t), 'b-', label='ESG2_final rank')\n",
    "legend = ax.legend(loc='upper center', shadow=True)\n"
   ]
  },
  {
   "cell_type": "code",
   "execution_count": null,
   "metadata": {
    "collapsed": false
   },
   "outputs": [],
   "source": []
  },
  {
   "cell_type": "code",
   "execution_count": null,
   "metadata": {
    "collapsed": false
   },
   "outputs": [],
   "source": []
  }
 ],
 "metadata": {
  "anaconda-cloud": {},
  "kernelspec": {
   "display_name": "Python [default]",
   "language": "python",
   "name": "python3"
  },
  "language_info": {
   "codemirror_mode": {
    "name": "ipython",
    "version": 3
   },
   "file_extension": ".py",
   "mimetype": "text/x-python",
   "name": "python",
   "nbconvert_exporter": "python",
   "pygments_lexer": "ipython3",
   "version": "3.5.2"
  }
 },
 "nbformat": 4,
 "nbformat_minor": 1
}
