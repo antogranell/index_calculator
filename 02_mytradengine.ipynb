{
 "cells": [
  {
   "cell_type": "code",
   "execution_count": 14,
   "metadata": {
    "collapsed": false
   },
   "outputs": [
    {
     "name": "stdout",
     "output_type": "stream",
     "text": [
      "Populating the interactive namespace from numpy and matplotlib\n"
     ]
    }
   ],
   "source": [
    "import pandas as pd\n",
    "import datetime as dt\n",
    "from pandas.tseries.offsets import BDay\n",
    "import requests\n",
    "import sys\n",
    "import numpy as np\n",
    "%pylab inline\n",
    "import re\n",
    "\n",
    "sys.path.append('D:/Python/AntoTradingSystem/Lib/')\n",
    "import yafin\n",
    "\n",
    "master = yafin.getmaster('Stock')\n",
    "masterindex = yafin.getmaster('Index')\n",
    "\n",
    "from pandas_datareader.data import DataReader\n"
   ]
  },
  {
   "cell_type": "code",
   "execution_count": 16,
   "metadata": {
    "collapsed": false
   },
   "outputs": [],
   "source": [
    "DataReader('MCF', 'yahoo', '2010/10/1', '2015/3/1').head(2)"
   ]
  },
  {
   "cell_type": "code",
   "execution_count": 21,
   "metadata": {
    "collapsed": false
   },
   "outputs": [
    {
     "data": {
      "text/html": [
       "<div>\n",
       "<table border=\"1\" class=\"dataframe\">\n",
       "  <thead>\n",
       "    <tr style=\"text-align: right;\">\n",
       "      <th></th>\n",
       "      <th>24794573.DE</th>\n",
       "      <th>^NQUSS9572GBPT</th>\n",
       "      <th>^NQEMEA9000EURT</th>\n",
       "    </tr>\n",
       "  </thead>\n",
       "  <tbody>\n",
       "    <tr>\n",
       "      <th>2016-10-03</th>\n",
       "      <td>NaN</td>\n",
       "      <td>NaN</td>\n",
       "      <td>NaN</td>\n",
       "    </tr>\n",
       "    <tr>\n",
       "      <th>2016-10-04</th>\n",
       "      <td>NaN</td>\n",
       "      <td>NaN</td>\n",
       "      <td>NaN</td>\n",
       "    </tr>\n",
       "    <tr>\n",
       "      <th>2016-10-05</th>\n",
       "      <td>NaN</td>\n",
       "      <td>NaN</td>\n",
       "      <td>NaN</td>\n",
       "    </tr>\n",
       "    <tr>\n",
       "      <th>2016-10-06</th>\n",
       "      <td>NaN</td>\n",
       "      <td>NaN</td>\n",
       "      <td>NaN</td>\n",
       "    </tr>\n",
       "    <tr>\n",
       "      <th>2016-10-07</th>\n",
       "      <td>NaN</td>\n",
       "      <td>NaN</td>\n",
       "      <td>NaN</td>\n",
       "    </tr>\n",
       "  </tbody>\n",
       "</table>\n",
       "</div>"
      ],
      "text/plain": [
       "            24794573.DE  ^NQUSS9572GBPT  ^NQEMEA9000EURT\n",
       "2016-10-03          NaN             NaN              NaN\n",
       "2016-10-04          NaN             NaN              NaN\n",
       "2016-10-05          NaN             NaN              NaN\n",
       "2016-10-06          NaN             NaN              NaN\n",
       "2016-10-07          NaN             NaN              NaN"
      ]
     },
     "execution_count": 21,
     "metadata": {},
     "output_type": "execute_result"
    }
   ],
   "source": [
    "yahoo.get_timeseries_gross_return(list(masterindex.head(3).Ticker), '2016/10/1', '2017/3/1').head()"
   ]
  },
  {
   "cell_type": "code",
   "execution_count": 8,
   "metadata": {
    "collapsed": false
   },
   "outputs": [
    {
     "data": {
      "text/html": [
       "<div>\n",
       "<table border=\"1\" class=\"dataframe\">\n",
       "  <thead>\n",
       "    <tr style=\"text-align: right;\">\n",
       "      <th></th>\n",
       "      <th>VATSAEDU.BO</th>\n",
       "      <th>RES.TO</th>\n",
       "      <th>WELLNESS.BO</th>\n",
       "      <th>WNGRF</th>\n",
       "      <th>ECV.L</th>\n",
       "      <th>RXNRP</th>\n",
       "      <th>HAL</th>\n",
       "      <th>MCF</th>\n",
       "    </tr>\n",
       "  </thead>\n",
       "  <tbody>\n",
       "    <tr>\n",
       "      <th>2010-10-01</th>\n",
       "      <td>NaN</td>\n",
       "      <td>NaN</td>\n",
       "      <td>NaN</td>\n",
       "      <td>NaN</td>\n",
       "      <td>NaN</td>\n",
       "      <td>NaN</td>\n",
       "      <td>NaN</td>\n",
       "      <td>NaN</td>\n",
       "    </tr>\n",
       "    <tr>\n",
       "      <th>2010-10-04</th>\n",
       "      <td>NaN</td>\n",
       "      <td>NaN</td>\n",
       "      <td>NaN</td>\n",
       "      <td>NaN</td>\n",
       "      <td>NaN</td>\n",
       "      <td>NaN</td>\n",
       "      <td>NaN</td>\n",
       "      <td>NaN</td>\n",
       "    </tr>\n",
       "    <tr>\n",
       "      <th>2010-10-05</th>\n",
       "      <td>NaN</td>\n",
       "      <td>NaN</td>\n",
       "      <td>NaN</td>\n",
       "      <td>NaN</td>\n",
       "      <td>NaN</td>\n",
       "      <td>NaN</td>\n",
       "      <td>NaN</td>\n",
       "      <td>NaN</td>\n",
       "    </tr>\n",
       "    <tr>\n",
       "      <th>2010-10-06</th>\n",
       "      <td>NaN</td>\n",
       "      <td>NaN</td>\n",
       "      <td>NaN</td>\n",
       "      <td>NaN</td>\n",
       "      <td>NaN</td>\n",
       "      <td>NaN</td>\n",
       "      <td>NaN</td>\n",
       "      <td>NaN</td>\n",
       "    </tr>\n",
       "    <tr>\n",
       "      <th>2010-10-07</th>\n",
       "      <td>NaN</td>\n",
       "      <td>NaN</td>\n",
       "      <td>NaN</td>\n",
       "      <td>NaN</td>\n",
       "      <td>NaN</td>\n",
       "      <td>NaN</td>\n",
       "      <td>NaN</td>\n",
       "      <td>NaN</td>\n",
       "    </tr>\n",
       "  </tbody>\n",
       "</table>\n",
       "</div>"
      ],
      "text/plain": [
       "            VATSAEDU.BO  RES.TO  WELLNESS.BO  WNGRF  ECV.L  RXNRP  HAL  MCF\n",
       "2010-10-01          NaN     NaN          NaN    NaN    NaN    NaN  NaN  NaN\n",
       "2010-10-04          NaN     NaN          NaN    NaN    NaN    NaN  NaN  NaN\n",
       "2010-10-05          NaN     NaN          NaN    NaN    NaN    NaN  NaN  NaN\n",
       "2010-10-06          NaN     NaN          NaN    NaN    NaN    NaN  NaN  NaN\n",
       "2010-10-07          NaN     NaN          NaN    NaN    NaN    NaN  NaN  NaN"
      ]
     },
     "execution_count": 8,
     "metadata": {},
     "output_type": "execute_result"
    }
   ],
   "source": [
    "sys.path.append('D:/Python/AntoTradingSystem/Lib/backtest-master/')\n",
    "import calculator as cal\n",
    "from calculator import yahoo\n",
    "\n",
    "symbols = list(master.head(8).Ticker)\n",
    "startdate = dt.date(2015,10,1)\n",
    "enddate = dt.date(2016,6,1)\n",
    "\n",
    "yahoo.get_timeseries_gross_return(symbols, '2010/10/1', '2015/3/1').head()"
   ]
  },
  {
   "cell_type": "code",
   "execution_count": null,
   "metadata": {
    "collapsed": false
   },
   "outputs": [],
   "source": []
  },
  {
   "cell_type": "code",
   "execution_count": null,
   "metadata": {
    "collapsed": false
   },
   "outputs": [],
   "source": [
    "#put 8 company portfolio\n",
    "#need to incorporat check so that 1 stock can't be twice in the same date range\n",
    "import sqlite3\n",
    "\n",
    "loc = 'D:/Python/AntoTradingSystem/db/'\n",
    "\n",
    "conn = sqlite3.connect(loc + '/portfoliosim.sqlite')\n",
    "cur = conn.cursor()\n",
    "\n",
    "reset_db()\n",
    "\n",
    "#symbols = list(master.head(8).Ticker)\n",
    "symbols = list(['GOOG', 'SAN.MC', 'BBVA.MC', 'TSLA', 'NFLX', 'PEP', 'CSCO', 'PSX'])\n",
    "\n",
    "lst_vf = ['2010-10-01', '2010-10-01', '2010-10-15', '2010-11-01', '2010-11-01', '2010-10-01', '2011-02-01', '2011-02-15']\n",
    "lst_vt = ['2012-05-01', '2012-11-01', '2012-12-15', '2011-03-01', '2011-10-01', '2010-12-01', '2011-05-01', '2011-11-15']\n",
    "units = [1000, 1000, 100, 500, 1000, 200, 1000, 500]\n",
    "\n",
    "i = 0\n",
    "for symbol in symbols:\n",
    "    add_comp2pf(2, np.nan , symbol, '', units[i], lst_vf[i], lst_vt[i])\n",
    "    i = i + 1\n",
    "    print(symbol)"
   ]
  },
  {
   "cell_type": "code",
   "execution_count": null,
   "metadata": {
    "collapsed": false
   },
   "outputs": [],
   "source": [
    "stocks_2 = ['GOOG', 'SAN.MC', 'BBVA.MC', 'TSLA', 'NFLX', 'PEP', 'CSCO', 'PSX']"
   ]
  },
  {
   "cell_type": "code",
   "execution_count": null,
   "metadata": {
    "collapsed": false
   },
   "outputs": [],
   "source": [
    "gticker='NYSE:IBM'\n",
    "import pandas.io.data as web\n",
    "dfg = web.DataReader(gticker, 'google', '2013/1/1', '2014/3/1')\n"
   ]
  },
  {
   "cell_type": "code",
   "execution_count": null,
   "metadata": {
    "collapsed": false
   },
   "outputs": [],
   "source": [
    "yafin.find_stock(master, 'phillips')"
   ]
  },
  {
   "cell_type": "code",
   "execution_count": null,
   "metadata": {
    "collapsed": false
   },
   "outputs": [],
   "source": [
    "def reset_db():\n",
    "    cur.executescript('''\n",
    "    DROP TABLE IF EXISTS pfDef;\n",
    "    DROP TABLE IF EXISTS pfComp;\n",
    "    \n",
    "    CREATE TABLE pfDef (\n",
    "        pf_id     INTEGER NOT NULL PRIMARY KEY AUTOINCREMENT UNIQUE,\n",
    "        name   TEXT UNIQUE,\n",
    "        description TEXT,\n",
    "        inception DATE,\n",
    "        history DATE\n",
    "    );\n",
    "\n",
    "    CREATE TABLE pfComp (\n",
    "        pf_id     INTEGER,\n",
    "        comp_id   INTEGER,\n",
    "        yf_id TEXT,\n",
    "        comp_name TEXT,\n",
    "        units INTEGER,\n",
    "        validfrom DATE,\n",
    "        validto DATE,\n",
    "        PRIMARY KEY (pf_id, comp_id)\n",
    "    )\n",
    "    ''')\n",
    "    \n",
    "def add_comp2pf(pf_id, comp_id, yf_id, comp_name, units, validfrom, validto):\n",
    "\n",
    "    cur.execute('''INSERT OR IGNORE INTO pfComp (pf_id, comp_id, yf_id, comp_name, units, validfrom, validto) \n",
    "        VALUES ( ?, ?, ?, ?, ?, ?, ? )''', ( pf_id, comp_id, yf_id, comp_name, units, validfrom, validto, ) )\n",
    "\n",
    "    conn.commit()"
   ]
  },
  {
   "cell_type": "code",
   "execution_count": null,
   "metadata": {
    "collapsed": false
   },
   "outputs": [],
   "source": [
    "#get composition for portfolio\n",
    "cur.execute('SELECT * FROM pfComp WHERE pf_id = ? ', (2, ))\n",
    "\n",
    "df1 = pd.DataFrame(cur.fetchall(), columns=[des[0] for des in cur.description])\n",
    "df1"
   ]
  },
  {
   "cell_type": "code",
   "execution_count": null,
   "metadata": {
    "collapsed": false
   },
   "outputs": [],
   "source": [
    "symbols = list(['GOOG', 'SAN.MC', 'BBVA.MC', 'TSLA', 'NFLX', 'PEP', 'CSCO', 'PSX'])"
   ]
  },
  {
   "cell_type": "code",
   "execution_count": null,
   "metadata": {
    "collapsed": false
   },
   "outputs": [],
   "source": [
    "#develop calcualtor\n",
    "calc_from = '2010-10-01'\n",
    "calc_to = '2012-12-15'\n",
    "\n",
    "pr = yahoo.get_timeseries_gross_return(symbols, calc_from, calc_to)\n",
    "pr = pr.fillna(method='bfill')\n",
    "pr.index.name = None\n",
    "#pr = pr / pr.iloc[0]\n",
    "pr.head()"
   ]
  },
  {
   "cell_type": "code",
   "execution_count": null,
   "metadata": {
    "collapsed": false
   },
   "outputs": [],
   "source": [
    "symbols = list(['GOOG', 'SAN.MC', 'BBVA.MC', 'TSLA', 'NFLX', 'PEP', 'CSCO', 'PSX'])\n",
    "pdreb\n",
    "uniquedates"
   ]
  },
  {
   "cell_type": "code",
   "execution_count": null,
   "metadata": {
    "collapsed": false,
    "scrolled": true
   },
   "outputs": [],
   "source": [
    "#get composition for portfolio\n",
    "port_id = 2\n",
    "cur.execute('SELECT * FROM pfComp WHERE pf_id = ? ', (port_id, ))\n",
    "\n",
    "df1 = pd.DataFrame(cur.fetchall(), columns=[des[0] for des in cur.description])\n",
    "\n",
    "#get unique portfolios and calculate index\n",
    "data = []\n",
    "basevalue = 1000\n",
    "uniquedates = sorted(df1.validfrom.drop_duplicates())[:]\n",
    "for d in range(len(uniquedates)):\n",
    "    \n",
    "    vf = uniquedates[d]\n",
    "    try:\n",
    "        vt = uniquedates[d+1]\n",
    "    except:\n",
    "        vt = str(dt.date.today())\n",
    "    cur.execute('SELECT * FROM pfComp WHERE pf_id = ? and validfrom <= ? and validto >= ?', (port_id, vf, vf,))\n",
    "    pdreb = pd.DataFrame(cur.fetchall(), columns=[des[0] for des in cur.description]) #portfolio at rebalancing\n",
    "    print(d, vf, vt)\n",
    "    \n",
    "    symbols = list(pdreb.yf_id)\n",
    "    units = list(pdreb.units)\n",
    "    pr = yahoo.get_timeseries_gross_return(symbols, vf, vt).fillna(method='bfill')\n",
    "    pr.index.name = None\n",
    "    pr = pr / pr.iloc[0] #standardize\n",
    "    \n",
    "    prreb = list(pr.iloc[0,:])\n",
    "    mcap = np.array(prreb) * np.array(units)\n",
    "    wgts = [(i/sum(mcap[mcap>=0])) for i in mcap]\n",
    "    \n",
    "    for s in range(len(symbols)):\n",
    "        pr[symbols[s]] = pr[symbols[s]] * wgts[s]\n",
    "    \n",
    "    portfolio = pr.sum(axis=1)\n",
    "    portfolio = portfolio / portfolio.iloc[0] * basevalue\n",
    "    data.append(portfolio)\n",
    "    \n",
    "    print(portfolio[-1])\n",
    "    basevalue = portfolio[-1]\n",
    "    \n",
    "portfolio = pd.DataFrame(pd.concat(data)).drop_duplicates()\n",
    "portfolio.columns = ['TR']\n",
    "    \n",
    "print('done')\n",
    "portfolio.plot()\n",
    "portfolio.head()"
   ]
  },
  {
   "cell_type": "code",
   "execution_count": null,
   "metadata": {
    "collapsed": false
   },
   "outputs": [],
   "source": []
  },
  {
   "cell_type": "code",
   "execution_count": null,
   "metadata": {
    "collapsed": false
   },
   "outputs": [],
   "source": []
  },
  {
   "cell_type": "code",
   "execution_count": null,
   "metadata": {
    "collapsed": false
   },
   "outputs": [],
   "source": [
    "import os\n",
    "import re\n",
    "import pandas as pd\n",
    "from pandas.tseries.offsets import BDay #pandas has holiday functionality (tbd)\n",
    "import datetime as dt\n",
    "from backtest.externaldata.yahoo import get_timeseries_gross_return\n",
    "\n",
    "def calculate(folderloc, portfoliosymbol):\n",
    "    '''Return portfolio value history\n",
    "    \n",
    "    filenames have to be of the format '{portfoliosymbol}_{YYYYMMDD}.csv',\n",
    "    the date in the filename is the effective date, i.e. weights are\n",
    "    open-weights; the files need to be comma-separated and include at\n",
    "    least the columns 'Symbol' and 'Weight'    \n",
    "    \n",
    "    Keyword arguments:\n",
    "    folderloc -- path to folder that contains composition files (string)\n",
    "    indexsymbol -- indexsymbol of index to be calculated\n",
    "    '''\n",
    "    basevalue = 100\n",
    "    data = []\n",
    "    \n",
    "    datelist = sorted([pd.to_datetime(re.split('[\\_\\.]',x)[1],format='%Y%m%d').date() for x in os.listdir(folderloc) if x.startswith(portfoliosymbol+'_')])\n",
    "    \n",
    "    for filedate in datelist: \n",
    "        # define dates\n",
    "        try:\n",
    "            nextfiledate = [x for x in datelist if x > filedate][0]\n",
    "        except:\n",
    "            nextfiledate = dt.date.today()\n",
    "\n",
    "        # read composition to dataframe\n",
    "        fileloc = folderloc + '/' + portfoliosymbol + '_' + dt.datetime.strftime(filedate,'%Y%m%d') + '.csv'\n",
    "        comp = pd.read_csv(fileloc, dtype={'Symbol':str})\n",
    "        \n",
    "        # load total return indices from QAD DataStream tables\n",
    "        returns = get_timeseries_gross_return(list(comp['Symbol']),(filedate - BDay(1)).date(),(nextfiledate - BDay(1)).date()).fillna(method='ffill')\n",
    "\n",
    "        # standardize\n",
    "        returns = returns / returns.iloc[0]\n",
    "        # apply weights\n",
    "        for index, row in comp.iterrows():\n",
    "            returns[row['Symbol']] = returns[row['Symbol']] * row['Weight']\n",
    "        # sum up to get index timeseries\n",
    "        portfolio = returns.sum(axis=1)\n",
    "        # scale to match previous indexvalue\n",
    "        portfolio = portfolio / portfolio.iloc[0] * basevalue\n",
    "        # patch together\n",
    "        data.append(portfolio)\n",
    "        basevalue = portfolio[-1]\n",
    "\n",
    "    portfolio = pd.DataFrame(pd.concat(data)).drop_duplicates()\n",
    "    portfolio.columns = [portfoliosymbol+'_TR']\n",
    "\n",
    "    return portfolio"
   ]
  }
 ],
 "metadata": {
  "kernelspec": {
   "display_name": "Python 2",
   "language": "python",
   "name": "python2"
  },
  "language_info": {
   "codemirror_mode": {
    "name": "ipython",
    "version": 2
   },
   "file_extension": ".py",
   "mimetype": "text/x-python",
   "name": "python",
   "nbconvert_exporter": "python",
   "pygments_lexer": "ipython2",
   "version": "2.7.12"
  }
 },
 "nbformat": 4,
 "nbformat_minor": 0
}
